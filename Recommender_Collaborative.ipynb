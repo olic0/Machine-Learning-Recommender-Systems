{
 "cells": [
  {
   "cell_type": "markdown",
   "metadata": {},
   "source": [
    "# ML Recommender System project"
   ]
  },
  {
   "cell_type": "markdown",
   "metadata": {},
   "source": [
    "Useful libraries to import:"
   ]
  },
  {
   "cell_type": "code",
   "execution_count": 4,
   "metadata": {
    "collapsed": true
   },
   "outputs": [],
   "source": [
    "from proj2_helpers import *\n",
    "import numpy as np\n",
    "import pandas as pd\n",
    "import sklearn as sk\n",
    "import matplotlib.pyplot as plt"
   ]
  },
  {
   "cell_type": "markdown",
   "metadata": {},
   "source": [
    "## 1. Data Loading"
   ]
  },
  {
   "cell_type": "code",
   "execution_count": 76,
   "metadata": {
    "collapsed": true
   },
   "outputs": [],
   "source": [
    "def convert_ID(string):\n",
    "    \"\"\"Convert the string ID of the form 'r44_c1' into the user_id 44 and movie_id 1\"\"\"\n",
    "    remove_chars = string.replace(\"r\",\"\").replace(\"c\", \"\").replace(\"_\", \" \")\n",
    "    split = remove_chars.split()\n",
    "    user_id = int(split[0])\n",
    "    movie_id = int(split[1])\n",
    "    return user_id, movie_id\n",
    "\n",
    "def load_csv_data(data_path, nb_users, nb_movies):\n",
    "    \"\"\"Loads data and returns the rating matrix\"\"\"\n",
    "    X = np.genfromtxt(data_path, dtype= str, delimiter=',', skip_header = True)\n",
    "    ratings_matrix = np.zeros((nb_users, nb_movies), dtype=np.int)\n",
    "    ids = np.zeros((len(X), 2), dtype=np.int)\n",
    "    \n",
    "    for i in range(X.shape[0]):\n",
    "        user_id, movie_id = convert_ID(X[i][0])\n",
    "        ids[i] = [user_id, movie_id]\n",
    "        ### Check for errors\n",
    "        if(user_id > 0 and user_id <= nb_users and movie_id > 0 and movie_id <= nb_movies):\n",
    "            ### Use -1 because IDs start at 1 and we want them to start at 0\n",
    "            ratings_matrix[user_id - 1][movie_id - 1] = int(X[i][1])\n",
    "        else:\n",
    "            print(\"Error with user {} and movie {}\".format(user_id, movie_id))\n",
    "    return ratings_matrix, ids\n",
    "\n",
    "def movie_user_predictions(sample_matrix):\n",
    "    \"\"\"Compute the matrix of indices we want to predict with movies as rows and users \n",
    "    for which we want to predict the rating for this movie\"\"\"\n",
    "    result = []\n",
    "    movie_user_matrix = sample_matrix.T\n",
    "    for movie_ratings in movie_user_matrix:\n",
    "        user_indices = [user for user, rating in enumerate(movie_ratings) if rating != 0]\n",
    "        result.append(user_indices)\n",
    "    return np.array(result)"
   ]
  },
  {
   "cell_type": "markdown",
   "metadata": {},
   "source": [
    "Load the data. We also need the sample ids as those are the ratings that we want to predict."
   ]
  },
  {
   "cell_type": "code",
   "execution_count": 61,
   "metadata": {},
   "outputs": [
    {
     "name": "stdout",
     "output_type": "stream",
     "text": [
      "Loading data\n",
      "Loading sample\n"
     ]
    }
   ],
   "source": [
    "nb_users = 10000\n",
    "nb_movies = 1000\n",
    "print(\"Loading data\")\n",
    "ratings_matrix, ids = load_csv_data(\"data_train.csv\", nb_users, nb_movies)\n",
    "print(\"Loading sample\")\n",
    "sample_matrix, sample_ids = load_csv_data(\"sample_submission.csv\", nb_users, nb_movies)"
   ]
  },
  {
   "cell_type": "code",
   "execution_count": 82,
   "metadata": {
    "collapsed": true
   },
   "outputs": [],
   "source": [
    "ratings_to_predict = movie_user_predictions(sample_matrix)"
   ]
  },
  {
   "cell_type": "code",
   "execution_count": 83,
   "metadata": {},
   "outputs": [
    {
     "name": "stdout",
     "output_type": "stream",
     "text": [
      "[36, 72, 155, 159, 247]\n",
      "[[ 37   1]\n",
      " [ 73   1]\n",
      " [156   1]\n",
      " [160   1]\n",
      " [248   1]]\n"
     ]
    }
   ],
   "source": [
    "print(ratings_to_predict[0][:5])\n",
    "print(sample_ids[:5])"
   ]
  },
  {
   "cell_type": "markdown",
   "metadata": {},
   "source": [
    "## 2. Statistics on the data"
   ]
  },
  {
   "cell_type": "code",
   "execution_count": 10,
   "metadata": {},
   "outputs": [
    {
     "name": "stdout",
     "output_type": "stream",
     "text": [
      "Mean of the ratings: 3.8572805008190647\n",
      "Sparsity of the matrix: 88.23048%\n",
      "The median of ratings amount per user is 104.0\n",
      "Minimum ratings: 3, Maximum ratings: 522\n"
     ]
    }
   ],
   "source": [
    "mean = np.mean(ratings_matrix[ratings_matrix != 0])\n",
    "print(\"Mean of the ratings: {}\".format(mean))\n",
    "sparsity = 100 * (1 - (len(ratings_matrix[ratings_matrix != 0]) / (nb_users * nb_movies)))\n",
    "print(\"Sparsity of the matrix: {}%\".format(sparsity))\n",
    "ratings_per_user = np.count_nonzero(ratings_matrix, axis = 1)\n",
    "ratings_per_movie = np.count_nonzero(ratings_matrix, axis = 0)\n",
    "print(\"The median of ratings amount per user is {}\".format(np.median(ratings_per_user)))\n",
    "print(\"The median of ratings amount per movie is {}\".format(np.median(ratings_per_movie)))\n",
    "print(\"Minimum ratings: {}, Maximum ratings: {}\".format(min(ratings_per_user), max(ratings_per_user)))"
   ]
  },
  {
   "cell_type": "markdown",
   "metadata": {},
   "source": [
    "Distribution of the value of ratings:"
   ]
  },
  {
   "cell_type": "code",
   "execution_count": 11,
   "metadata": {},
   "outputs": [
    {
     "data": {
      "image/png": "[encoded data removed]",
      "text/plain": [
       "<matplotlib.figure.Figure at 0xdb6573bc50>"
      ]
     },
     "metadata": {},
     "output_type": "display_data"
    },
    {
     "name": "stdout",
     "output_type": "stream",
     "text": [
      "[ 43508  99180 274327 324700 435237]\n",
      "[1 2 3 4 5 6]\n"
     ]
    }
   ],
   "source": [
    "distrib_ratings, bins_ratings = np.histogram(ratings_matrix[ratings_matrix != 0], bins = [1, 2, 3, 4, 5, 6])\n",
    "percentages_ratings = 100 * distrib_ratings / np.sum(distrib_ratings)\n",
    "\n",
    "plt.bar(bins_ratings[:-1], percentages_ratings, width = 0.3, color = 'orange')\n",
    "plt.xlabel(\"Ratings\")\n",
    "plt.ylabel(\"Rating distribution in %\")\n",
    "plt.show()\n",
    "\n",
    "print(distrib_ratings)\n",
    "print(bins_ratings)"
   ]
  },
  {
   "cell_type": "markdown",
   "metadata": {},
   "source": [
    "Distribution of number of ratings:"
   ]
  },
  {
   "cell_type": "code",
   "execution_count": 12,
   "metadata": {},
   "outputs": [
    {
     "data": {
      "image/png": "[encoded data removed]",
      "text/plain": [
       "<matplotlib.figure.Figure at 0xdb612a3278>"
      ]
     },
     "metadata": {},
     "output_type": "display_data"
    }
   ],
   "source": [
    "### Compute number of movies seen by each user\n",
    "movies_rated = np.count_nonzero(ratings_matrix, axis = 1)\n",
    "\n",
    "distrib_movies, bins_movies = np.histogram(movies_rated, bins = range(0,550,25))\n",
    "plt.bar(bins_movies[:-1], distrib_movies, width = 20, color = 'green', align = 'edge')\n",
    "plt.xlabel(\"Number of ratings\")\n",
    "plt.ylabel(\"Number of users\")\n",
    "plt.show()"
   ]
  },
  {
   "cell_type": "markdown",
   "metadata": {},
   "source": [
    "## 3. Algorithms"
   ]
  },
  {
   "cell_type": "markdown",
   "metadata": {},
   "source": [
    "The recommender system designed through this project uses the User-User Collaborative Filtering method. Collaborative filtering (CF) is a popular recommendation algorithm that bases the predictions and recommendations on the past ratings of users in the system. Thus, User-user CF consists of finding other users whose past rating behavior is similar to the one of the current user and uses their ratings on other items to predict what the current user will like.\n",
    "\n",
    "To compute the predictions for each user in the algorithm, we need a similarity function $s(u, v)$ computing the similarity between two users: u and v. The similarity function is used to compute a neighborhood $\\mathbf{K} \\subseteq U$ for each user u that consists of the K users that are most similar to u. Finally, the predicted rating for user u and movie i will be computed using the set of neighbors $\\mathbf{K}$ , as follows:\n",
    "    \n",
    "$$p_{u, i} = \\frac{\\sum_{v \\in \\mathbf{K}} s(u, v) . r_{v,i}}{\\sum_{v \\in \\mathbf{K}} |s(u, v)|}$$\n",
    "    \n",
    "where ${r}_{v,i}$ is the rating user v gave to movie i"
   ]
  },
  {
   "cell_type": "markdown",
   "metadata": {},
   "source": [
    "### 3.1 Similarity functions"
   ]
  },
  {
   "cell_type": "markdown",
   "metadata": {},
   "source": [
    "We need a similarity function to compute all similarities between users or movies, we will try the following functions:\n",
    "    - cosine similarity\n",
    "    - euclidean distance\n",
    "    - pearson correlation"
   ]
  },
  {
   "cell_type": "markdown",
   "metadata": {},
   "source": [
    "#### 3.1.1 Cosine similarity"
   ]
  },
  {
   "cell_type": "markdown",
   "metadata": {},
   "source": [
    "Users are represented as $I$-dimensional vectors and the similarity is computed by taking their dot product divided by the product of their Euclidean norms:\n",
    "    \n",
    "$$s(u,v) = \\frac{\\mathbf{r}_{u}.\\mathbf{r}_{v}}{\\lVert \\mathbf{r}_{u} \\rVert_{2} \\lVert \\mathbf{r}_{v} \\rVert_{2}} = \\frac{\\sum_{i} r_{u,i}.r_{v,i}}{\\sqrt{\\sum_{i} r_{u,i}^2} \\sqrt{\\sum_{i} r_{v,i}^2}} $$\n",
    "    \n",
    "where $\\mathbf{r}_{u}$ and $\\mathbf{r}_{v}$ are the rating vectors of user $u$ and $v$ respectively. Unknown ratings are considered to be $0.0$ and this causes them to drop out of the numerator."
   ]
  },
  {
   "cell_type": "code",
   "execution_count": 13,
   "metadata": {},
   "outputs": [
    {
     "data": {
      "text/plain": [
       "array([[ 0.        ,  0.09836635,  0.20147319, ...,  0.05138538,\n",
       "         0.19649248,  0.17267498],\n",
       "       [ 0.09836635,  0.        ,  0.12758677, ...,  0.05600622,\n",
       "         0.22168764,  0.24500193],\n",
       "       [ 0.20147319,  0.12758677,  0.        , ...,  0.10204437,\n",
       "         0.23786563,  0.20604448],\n",
       "       ..., \n",
       "       [ 0.05138538,  0.05600622,  0.10204437, ...,  0.        ,\n",
       "         0.14194186,  0.21796069],\n",
       "       [ 0.19649248,  0.22168764,  0.23786563, ...,  0.14194186,\n",
       "         0.        ,  0.18952854],\n",
       "       [ 0.17267498,  0.24500193,  0.20604448, ...,  0.21796069,\n",
       "         0.18952854,  0.        ]])"
      ]
     },
     "execution_count": 13,
     "metadata": {},
     "output_type": "execute_result"
    }
   ],
   "source": [
    "from sklearn.metrics import pairwise_distances\n",
    "\n",
    "### similarity = 1 - distance\n",
    "cosine_matrix = np.ones((nb_users, nb_users)) - sk.metrics.pairwise_distances(ratings_matrix, metric='cosine')\n",
    "### Set to 0 the similarity from user to itself\n",
    "cosine_matrix -= np.identity(nb_users)\n",
    "cosine_matrix"
   ]
  },
  {
   "cell_type": "markdown",
   "metadata": {},
   "source": [
    "#### 3.1.2 Euclidean Distance"
   ]
  },
  {
   "cell_type": "markdown",
   "metadata": {},
   "source": [
    "#### 3.1.3 Pearson Correlation"
   ]
  },
  {
   "cell_type": "markdown",
   "metadata": {},
   "source": [
    "### 3.2 K-nearest neighbors"
   ]
  },
  {
   "cell_type": "code",
   "execution_count": 14,
   "metadata": {
    "collapsed": true
   },
   "outputs": [],
   "source": [
    "def getTopKNeighbors(similarities, K):\n",
    "    \"\"\"Given the similarities of a user as an array, only keep the K best (max) similarities\n",
    "       by setting other similarities to 0\"\"\"\n",
    "    copy = np.copy(similarities)\n",
    "    index = len(similarities) - K\n",
    "    # Get the similarity value of the K best neighbor\n",
    "    bestNeighborsVal = np.partition(similarities, index)[index]\n",
    "    low_values_indices = copy < bestNeighborsVal # Where values are below the threshold\n",
    "    copy[low_values_indices] = 0.0\n",
    "    return copy"
   ]
  },
  {
   "cell_type": "code",
   "execution_count": 53,
   "metadata": {},
   "outputs": [
    {
     "data": {
      "text/plain": [
       "100"
      ]
     },
     "execution_count": 53,
     "metadata": {},
     "output_type": "execute_result"
    }
   ],
   "source": [
    "test = getTopKNeighbors(cosine_matrix[1], 100)\n",
    "len(test[test != 0])"
   ]
  },
  {
   "cell_type": "markdown",
   "metadata": {},
   "source": [
    "### 3.3 Predict the ratings"
   ]
  },
  {
   "cell_type": "markdown",
   "metadata": {},
   "source": [
    "The following methods uses a different neighborhood for each user and item: the neighbors must have seen the movie that we want to predict"
   ]
  },
  {
   "cell_type": "markdown",
   "metadata": {},
   "source": [
    "Compute all predictions user per user:"
   ]
  },
  {
   "cell_type": "code",
   "execution_count": 242,
   "metadata": {
    "collapsed": true
   },
   "outputs": [],
   "source": [
    "\"\"\"Too long for computation as it computes all predictions: 10 millions\"\"\"\n",
    "### similarities is the array of similarities for the considered user\n",
    "### ratings is the transpose ratings_matrix (movies x users)\n",
    "### K_best is the number of best neighbors (integer)\n",
    "def compute_predictions(ratings_movie_user, similarities, K_best):\n",
    "    \"\"\"Compute all the predictions for a particular user\"\"\"\n",
    "    # Create matrix with same columns of similarities with length of ratings_movie_user as the number of columns\n",
    "    copiedSimilarities = np.tile(similarities, (len(ratings_movie_user), 1)).T\n",
    "    # Set similarities to 0.0 when the other users haven't rated the movie (don't take them in consideration for calculus)\n",
    "    copiedRatings = np.copy(ratings_movie_user) #This copy is really really important !!!\n",
    "    copiedRatings[copiedRatings != 0.0] = 1.0\n",
    "    copiedSimilarities = np.multiply(copiedSimilarities, ratings_movie_user.T)\n",
    "    \n",
    "    # Apply function getTopNNeighbors to each column of copiedSimilarities\n",
    "    bestNeighbors = np.apply_along_axis(getTopKNeighbors, 0, copiedSimilarities, K_best)\n",
    "    # Get a list of sums of each column of copiedSimilarities\n",
    "    sumSimilarities = np.sum(bestNeighbors, axis = 0)\n",
    "\n",
    "    #Compute prediction: dot product of the items in partialRatings @ similarities of K best neighbors -> just get diagonal values\n",
    "    predictions = np.einsum('ij,ji->i', ratings_movie_user, bestNeighbors)\n",
    "    predictions = predictions / sumSimilarities\n",
    "    predictions[np.isnan(predictions)] = 0.0\n",
    "    return predictions"
   ]
  },
  {
   "cell_type": "code",
   "execution_count": 243,
   "metadata": {
    "collapsed": true
   },
   "outputs": [],
   "source": [
    "\"\"\"Too long for computation as it computes all predictions: 10 millions\"\"\"\n",
    "def compute_matrix(ratings_matrix, similarity_matrix, K_best):\n",
    "    \"\"\"Compute the matrix of predictions by running the compute_predictions for each user\"\"\"\n",
    "    nb_users = len(ratings_matrix)\n",
    "    nb_movies = len(ratings_matrix[0])\n",
    "    predictions_matrix = np.zeros((nb_users, nb_movies))\n",
    "    for user in range(nb_users):\n",
    "        if(user%100 == 0):\n",
    "            print(user)\n",
    "        similarities_user = similarity_matrix[user]\n",
    "        predictions_user = compute_predictions(np.copy(ratings_matrix).T, similarities_user, K_best)\n",
    "        predictions_matrix[user] = predictions_user\n",
    "    return predictions_matrix"
   ]
  },
  {
   "cell_type": "code",
   "execution_count": 248,
   "metadata": {},
   "outputs": [
    {
     "data": {
      "text/plain": [
       "array([ 4.54324212,  4.60861297,  4.88102289,  5.        ,  4.95293621,\n",
       "        5.        ,  4.95393599,  5.        ,  4.4613122 ,  5.        ,\n",
       "        4.96149018,  4.61802447,  4.64064601,  5.        ,  4.97987434,\n",
       "        4.88740051,  4.84013087,  4.15409638,  4.85258086,  4.906893  ,\n",
       "        5.        ,  4.93330472,  4.77831891,  4.87040958,  4.8112198 ,\n",
       "        5.        ,  4.82330761,  4.76100714,  4.95304526,  4.990789  ,\n",
       "        4.34527446,  4.99049836,  5.        ,  4.86102955,  4.79809704,\n",
       "        4.20434277,  5.        ,  4.48687281,  3.93977225,  4.98159892,\n",
       "        3.07013611,  4.98136038,  4.89873734,  5.        ,  5.        ,\n",
       "        5.        ,  4.25567443,  4.99081252,  3.76293544,  4.60142872,\n",
       "        5.        ,  4.3555217 ,  4.97183566,  4.32872013,  4.99067058,\n",
       "        3.39743368,  4.91811147,  3.5162759 ,  5.        ,  5.        ,\n",
       "        5.        ,  4.60296054,  4.96268449,  4.76663116,  4.7380959 ,\n",
       "        4.81395211,  4.46278671,  4.99052687,  5.        ,  4.50178644,\n",
       "        4.99054508,  5.        ,  3.86514836,  4.71659124,  3.88351198,\n",
       "        5.        ,  5.        ,  4.94225519,  4.93650002,  4.54470544,\n",
       "        4.61104369,  4.66557959,  4.5912784 ,  5.        ,  4.86167152,\n",
       "        5.        ,  4.90933059,  4.99077885,  5.        ,  4.9154735 ,\n",
       "        4.91790577,  5.        ,  5.        ,  4.99031298,  5.        ,\n",
       "        4.49413463,  4.35461096,  4.68515844,  5.        ,  4.87092064,\n",
       "        4.99065476,  5.        ,  4.95521839,  4.17058964,  4.97238759,\n",
       "        4.98985232,  4.79284869,  4.57196672,  4.49484628,  4.53665633,\n",
       "        4.57291806,  4.98113639,  4.88009903,  4.55323338,  3.90935051,\n",
       "        4.82888883,  5.        ,  5.        ,  4.13612564,  4.92563646,\n",
       "        4.74098521,  4.94320607,  4.55775582,  4.99055231,  4.85690758,\n",
       "        4.99064728,  4.96274119,  4.35086195,  3.96658188,  4.50436101,\n",
       "        5.        ,  4.84199495,  4.57344745,  5.        ,  4.65053329,\n",
       "        4.72490678,  4.29450917,  4.98180538,  4.99032362,  4.50324981,\n",
       "        4.93423396,  4.4875398 ,  5.        ,  4.80388606,  4.49303458,\n",
       "        4.98138273,  3.37521678,  5.        ,  4.41874228,  4.48821288,\n",
       "        3.78537941,  4.49427456,  3.87118104,  4.63231208,  4.97245585,\n",
       "        5.        ,  4.90586267,  4.71544342,  4.99080061,  4.99073145,\n",
       "        5.        ,  4.70015374,  4.95371467,  4.8986762 ,  4.97190464,\n",
       "        3.64453623,  4.46045728,  4.94394869,  5.        ,  4.99001309,\n",
       "        5.        ,  4.67902425,  5.        ,  4.98134747,  4.29485223,\n",
       "        5.        ,  5.        ,  5.        ,  5.        ,  4.80486109,\n",
       "        5.        ,  5.        ,  5.        ,  5.        ,  3.86329177,\n",
       "        5.        ,  4.71977368,  5.        ,  4.81036643,  4.51401676,\n",
       "        5.        ,  4.47070695,  5.        ,  4.28457702,  3.75827719,\n",
       "        4.9639272 ,  5.        ,  5.        ,  4.86221543,  5.        ,\n",
       "        4.17354133,  4.77032178,  5.        ,  4.21406284,  4.63916895,\n",
       "        5.        ,  4.70052726,  5.        ,  3.60753555,  4.8975343 ,\n",
       "        4.9810755 ,  4.7918022 ,  5.        ,  5.        ,  4.98944855,\n",
       "        5.        ,  4.90752189,  4.8396062 ,  4.94331679,  4.95397134,\n",
       "        4.58651357,  4.77349395,  4.87030145,  4.97175264,  4.75567469,\n",
       "        4.70183732,  5.        ,  4.95317556,  4.26630819,  5.        ,\n",
       "        4.44434447,  4.53484554,  4.88571746,  4.98156955,  5.        ,\n",
       "        4.98127642,  5.        ,  4.79944098,  4.74176465,  5.        ,\n",
       "        4.99068671,  4.99005402,  3.43358458,  4.87101147,  5.        ,\n",
       "        5.        ,  5.        ,  4.7605458 ,  5.        ,  5.        ,\n",
       "        5.        ,  4.55076102,  4.97158993,  4.8917814 ,  3.42782699,\n",
       "        5.        ,  5.        ,  4.98997827,  4.99044378,  4.86744067,\n",
       "        4.30321381,  5.        ,  4.50641393,  4.99043911,  4.49892362,\n",
       "        5.        ,  4.62032404,  4.58797288,  4.88873165,  4.70864902,\n",
       "        5.        ,  4.70218403,  4.31856695,  4.85387684,  4.28760606,\n",
       "        4.3999217 ,  4.49392344,  4.74382682,  4.32557258,  4.15792374,\n",
       "        4.17657859,  4.26028513,  5.        ,  4.9352511 ,  5.        ,\n",
       "        4.26865678,  4.89664018,  4.69306061,  4.9907125 ,  4.55626575,\n",
       "        4.99064571,  3.72982199,  4.5614976 ,  4.58791949,  5.        ,\n",
       "        5.        ,  4.98977507,  5.        ,  4.65665458,  5.        ,\n",
       "        5.        ,  5.        ,  5.        ,  5.        ,  4.9714878 ,\n",
       "        4.98985076,  4.97943577,  5.        ,  5.        ,  5.        ,\n",
       "        5.        ,  5.        ,  5.        ,  5.        ,  4.69883805,\n",
       "        4.97002747,  5.        ,  5.        ,  4.87028631,  5.        ,\n",
       "        5.        ,  5.        ,  4.2915347 ,  5.        ,  4.59807442,\n",
       "        5.        ,  4.60629319,  5.        ,  4.9232531 ,  4.94480571,\n",
       "        5.        ,  5.        ,  5.        ,  4.96246811,  4.96107722,\n",
       "        4.86273517,  5.        ,  5.        ,  4.43046052,  5.        ,\n",
       "        4.72714717,  5.        ,  4.89849664,  4.86360965,  4.97041011,\n",
       "        4.74531742,  4.80327596,  4.98100837,  5.        ,  5.        ,\n",
       "        5.        ,  4.9798151 ,  5.        ,  4.66555249,  3.64132615,\n",
       "        3.48448025,  4.16776304,  4.98129581,  4.64201831,  4.90034732,\n",
       "        4.79016802,  4.12098986,  4.95248147,  4.60646163,  4.85158747,\n",
       "        5.        ,  5.        ,  4.97166778,  5.        ,  5.        ,\n",
       "        4.51055859,  4.85153144,  4.5168279 ,  4.49097435,  4.78888203,\n",
       "        4.59380303,  4.5254824 ,  3.64414587,  5.        ,  4.98146523,\n",
       "        4.94361031,  4.33593529,  4.30281793,  4.91621985,  4.97179862,\n",
       "        4.96079613,  4.88730751,  4.72630069,  4.89549246,  3.79294674,\n",
       "        4.9627983 ,  4.99053459,  4.9418015 ,  4.73442538,  4.82683303,\n",
       "        5.        ,  4.97203544,  4.98093173,  5.        ,  4.48921443,\n",
       "        4.80464344,  5.        ,  5.        ,  4.46076844,  5.        ,\n",
       "        5.        ,  4.6681276 ,  4.72685929,  4.79852535,  4.98172924,\n",
       "        5.        ,  5.        ,  4.89883349,  4.31084095,  4.94435236,\n",
       "        5.        ,  5.        ,  5.        ,  4.66982294,  5.        ,\n",
       "        4.99053354,  4.58572197,  5.        ,  3.76818051,  5.        ,\n",
       "        5.        ,  5.        ,  4.93629809,  4.87962925,  4.99061091,\n",
       "        4.8882786 ,  4.96294928,  5.        ,  5.        ,  4.99069659,\n",
       "        4.28865551,  3.39566261,  3.99382444,  4.98137363,  5.        ,\n",
       "        4.1511098 ,  4.15489066,  4.38136102,  4.98126795,  5.        ,\n",
       "        4.99036634,  4.95378747,  4.85359695,  4.44819406,  4.89970409,\n",
       "        4.5465136 ,  4.93404801,  4.87212996,  4.84593004,  5.        ,\n",
       "        4.4568349 ,  5.        ,  5.        ,  5.        ,  3.62566996,\n",
       "        4.74525316,  4.68998739,  4.5546275 ,  5.        ,  4.97216314,\n",
       "        4.96225922,  4.82163548,  3.8079116 ,  4.73389487,  3.67321083,\n",
       "        5.        ,  4.98120854,  5.        ,  5.        ,  4.99061457,\n",
       "        4.9906424 ,  5.        ,  5.        ,  4.98115529,  4.95338883,\n",
       "        4.86343846,  5.        ,  4.85991244,  5.        ,  5.        ,\n",
       "        5.        ,  4.98993551,  5.        ,  5.        ,  4.99031072,\n",
       "        5.        ,  5.        ,  4.98082611,  5.        ,  5.        ,\n",
       "        4.98102364,  5.        ,  4.9905469 ,  4.98996017,  3.47371484,\n",
       "        5.        ,  5.        ,  3.95185821,  3.88758348,  3.1878766 ,\n",
       "        5.        ,  3.49923829,  5.        ,  4.77694317,  4.22885537,\n",
       "        4.93509011,  4.29948173,  3.52758437,  4.33669193,  4.23614054,\n",
       "        3.68170836,  4.94347744,  4.98049585,  3.96371794,  3.78333195,\n",
       "        4.04910476,  4.97955638,  4.98120798,  4.35091466,  5.        ,\n",
       "        4.17256426,  5.        ,  4.64017179,  4.96228671,  4.96263214,\n",
       "        4.22387442,  2.89933007,  4.89860987,  5.        ,  3.53756612,\n",
       "        5.        ,  4.40071179,  4.59757008,  4.34685034,  3.48327655,\n",
       "        4.20155448,  4.90033642,  4.78752134,  4.91573624,  5.        ,\n",
       "        5.        ,  4.99001875,  4.97178038,  4.91495272,  4.97156244,\n",
       "        5.        ,  5.        ,  5.        ,  5.        ,  4.89710043,\n",
       "        4.99082169,  4.87873201,  4.93484883,  4.9815321 ,  4.73257239,\n",
       "        4.98102927,  4.97227225,  4.99023419,  4.58150057,  4.97199825,\n",
       "        4.01777269,  4.67936869,  4.27621453,  4.9906696 ,  5.        ,\n",
       "        4.99066558,  4.62063957,  5.        ,  4.7706445 ,  5.        ,\n",
       "        5.        ,  5.        ,  4.61240901,  4.52200688,  4.82708164,\n",
       "        4.989604  ,  4.73030068,  5.        ,  5.        ,  4.7542482 ,\n",
       "        5.        ,  4.99021576,  4.52431073,  4.66777869,  4.66654806,\n",
       "        5.        ,  4.63446076,  3.85135152,  5.        ,  5.        ,\n",
       "        5.        ,  5.        ,  5.        ,  5.        ,  4.61186879,\n",
       "        5.        ,  5.        ,  3.78990322,  5.        ,  5.        ,\n",
       "        5.        ,  4.95318507,  5.        ,  4.98132711,  5.        ,\n",
       "        5.        ,  5.        ,  5.        ,  4.88004785,  5.        ,\n",
       "        5.        ,  5.        ,  4.99012194,  5.        ,  4.98995927,\n",
       "        4.99041543,  4.98112181,  5.        ,  4.94475123,  4.9904843 ,\n",
       "        5.        ,  3.87752159,  5.        ,  5.        ,  4.69845048,\n",
       "        5.        ,  5.        ,  5.        ,  4.46792243,  4.98120658,\n",
       "        4.96261935,  3.99724629,  5.        ,  4.93719177,  4.98988178,\n",
       "        4.99063589,  5.        ,  5.        ,  5.        ,  5.        ,\n",
       "        4.99032736,  5.        ,  5.        ,  4.99071562,  5.        ,\n",
       "        5.        ,  5.        ,  4.9343278 ,  5.        ,  4.99058455,\n",
       "        5.        ,  5.        ,  5.        ,  5.        ,  5.        ,\n",
       "        5.        ,  5.        ,  5.        ,  5.        ,  4.98958833,\n",
       "        4.82403613,  5.        ,  5.        ,  5.        ,  5.        ,\n",
       "        4.8601717 ,  5.        ,  5.        ,  5.        ,  4.9525596 ,\n",
       "        4.9904302 ,  4.92651873,  4.90460171,  5.        ,  5.        ,\n",
       "        4.97982485,  5.        ,  5.        ,  5.        ,  5.        ,\n",
       "        5.        ,  4.93316088,  4.63664808,  5.        ,  5.        ,\n",
       "        5.        ,  3.77752918,  4.94459704,  5.        ,  4.99003037,\n",
       "        5.        ,  5.        ,  4.97086636,  5.        ,  5.        ,\n",
       "        4.95379338,  5.        ,  5.        ,  4.68108869,  5.        ,\n",
       "        5.        ,  4.90725831,  3.90268702,  4.01209279,  4.47562074,\n",
       "        3.4270299 ,  4.21397174,  4.3295632 ,  3.91543357,  4.21030975,\n",
       "        5.        ,  4.12393299,  4.99025574,  5.        ,  4.44108413,\n",
       "        3.60422224,  5.        ,  4.51636591,  4.62436738,  4.8292189 ,\n",
       "        4.86500116,  4.94554755,  4.61294669,  4.4804869 ,  3.96798873,\n",
       "        5.        ,  4.60069777,  4.99048197,  3.8658264 ,  4.04746933,\n",
       "        4.84567387,  5.        ,  4.98140385,  4.99086332,  4.88349648,\n",
       "        5.        ,  5.        ,  5.        ,  4.63800605,  5.        ,\n",
       "        5.        ,  4.99069041,  5.        ,  4.93587427,  4.83976395,\n",
       "        4.8615329 ,  4.96392028,  4.40248744,  5.        ,  5.        ,\n",
       "        5.        ,  4.40120155,  3.90011239,  4.95294801,  4.85801761,\n",
       "        4.49763068,  3.42675977,  4.386507  ,  4.79966794,  5.        ,\n",
       "        4.97194806,  4.8435911 ,  5.        ,  5.        ,  5.        ,\n",
       "        4.97155445,  5.        ,  5.        ,  5.        ,  5.        ,\n",
       "        4.990278  ,  5.        ,  5.        ,  5.        ,  4.04923183,\n",
       "        4.97165083,  4.33423248,  5.        ,  3.36054352,  4.99010888,\n",
       "        4.72239678,  5.        ,  4.32523751,  5.        ,  4.55639235,\n",
       "        5.        ,  5.        ,  4.66737765,  5.        ,  4.40029394,\n",
       "        4.98925937,  5.        ,  4.36407046,  5.        ,  4.56199409,\n",
       "        4.98145479,  5.        ,  5.        ,  4.69701828,  5.        ,\n",
       "        5.        ,  4.9810778 ,  5.        ,  5.        ,  4.99059765,\n",
       "        4.79616719,  4.6850712 ,  4.50105298,  4.98113717,  4.99043692,\n",
       "        5.        ,  4.81541795,  4.89016587,  4.84611649,  4.92552679,\n",
       "        3.67691021,  4.67554958,  5.        ,  4.91570139,  5.        ,\n",
       "        4.7629268 ,  5.        ,  4.87894376,  4.71266473,  4.30848293,\n",
       "        3.86934462,  4.84465933,  4.9725345 ,  4.83160502,  4.31129526,\n",
       "        5.        ,  3.91189773,  4.31402874,  4.94401926,  4.42296008,\n",
       "        4.96231177,  4.44350959,  4.98143151,  4.99085688,  4.27847306,\n",
       "        4.78362522,  5.        ,  4.8816188 ,  4.91733278,  5.        ,\n",
       "        4.64192255,  4.53189124,  4.96311604,  4.97181294,  4.95331435,\n",
       "        3.35940512,  4.67410378,  4.15938431,  4.4628303 ,  4.66722712,\n",
       "        4.05202906,  4.87893294,  4.80536843,  5.        ,  4.2917904 ,\n",
       "        4.48182609,  4.98963505,  4.01458206,  4.29041963,  4.86979027,\n",
       "        4.90580529,  4.18650275,  4.01444453,  5.        ,  3.97474639,\n",
       "        5.        ,  5.        ,  4.81663837,  4.16840146,  4.17540891,\n",
       "        4.53076478,  4.6312361 ,  5.        ,  4.05348319,  4.38780518,\n",
       "        4.81690927,  3.69629537,  4.92691493,  4.87173716,  4.91453598,\n",
       "        4.9906316 ,  4.59048304,  3.31490188,  4.80779153,  3.84102817,\n",
       "        4.84560391,  4.71400505,  5.        ,  4.58729089,  4.38772429,\n",
       "        3.8682115 ,  4.92686457,  3.19025682,  4.44386247,  4.21803196,\n",
       "        4.91497102,  3.5325072 ,  3.70471729,  3.82008931,  4.19718296,\n",
       "        4.98156115,  4.37499769,  4.90760454,  4.29569989,  5.        ,\n",
       "        4.9907205 ,  3.58900994,  4.13860015,  3.90280923,  4.20878538,\n",
       "        5.        ,  4.96236498,  3.73001072,  4.19659375,  5.        ,\n",
       "        3.61698734,  4.95356792,  2.82303447,  4.13802115,  4.26569374,\n",
       "        4.7530285 ,  4.74635753,  4.99079925,  4.44254773,  4.94284622,\n",
       "        4.77295458,  4.77492973,  4.43838131,  4.66281976,  4.82058914,\n",
       "        3.81134398,  5.        ,  4.62609955,  4.459887  ,  4.6430323 ,\n",
       "        3.23635005,  4.35161106,  3.72874944,  3.07062636,  5.        ,\n",
       "        4.38179286,  4.89520666,  3.79834475,  4.61942363,  3.0972103 ,\n",
       "        3.97343997,  3.60466503,  4.25413099,  3.00103033,  4.99095016,\n",
       "        3.64202089,  3.66762729,  3.76927702,  4.89567818,  3.23246814,\n",
       "        4.88962411,  5.        ,  3.72730033,  5.        ,  4.90865278,\n",
       "        4.99047737,  4.65640874,  4.66284919,  4.92760975,  4.59969483,\n",
       "        4.01046211,  4.16921818,  5.        ,  4.95337201,  4.97230161,\n",
       "        4.97136873,  5.        ,  4.95323321,  5.        ,  4.9717265 ,\n",
       "        5.        ,  4.97230736,  4.96240292,  4.97211654,  4.47015275,\n",
       "        4.52291464,  4.84443742,  4.34216439,  4.51219681,  5.        ,\n",
       "        4.98129935,  4.98127682,  4.57688398,  4.86304098,  5.        ])"
      ]
     },
     "execution_count": 248,
     "metadata": {},
     "output_type": "execute_result"
    }
   ],
   "source": [
    "### This cell only for testing:\n",
    "preds_test = compute_predictions(np.copy(ratings_matrix).T, cosine_matrix[36], 100)\n",
    "preds_test"
   ]
  },
  {
   "cell_type": "markdown",
   "metadata": {},
   "source": [
    "Compute predictions for each movie:"
   ]
  },
  {
   "cell_type": "code",
   "execution_count": 235,
   "metadata": {
    "collapsed": true
   },
   "outputs": [],
   "source": [
    "### ratings_matrix: The ratings matrix with dimension movies x users\n",
    "### movie: Index of movie we want to predict (from 0 to 9999)\n",
    "### similarity_matrix: The similarity matrix between al users\n",
    "### users_to_predict: The list of users (indices) for which we want to compute the predictions\n",
    "### K_best: The number of neighbors to keep for each prediction \n",
    "def compute_predictions_movie(ratings_matrix, movie, similarity_matrix, users_to_predict, K_best):\n",
    "    \"\"\"Compute all the wanted predictions for the given movie and returns the predictions in an array\"\"\"\n",
    "    ratings = ratings_matrix[movie]\n",
    "    # Following steps: only keep the similarities (user) if they have seen the movie\n",
    "    copiedRatings = np.tile(ratings, (len(users_to_predict), 1))\n",
    "    copiedRatings[copiedRatings != 0] = 1\n",
    "    # Get similarity matrix of the wanted users with dimension: all users (10000) x wanted users(< 10000)\n",
    "    similarities = similarity_matrix[users_to_predict].T\n",
    "    similarities = np.multiply(similarities, copiedRatings.T)\n",
    "    \n",
    "    # Apply function getTopKNeighbors to each column of similarities to keep K best similarities for each user\n",
    "    bestNeighbors = np.apply_along_axis(getTopKNeighbors, 0, similarities, K_best)\n",
    "    # Get a list of sums of each column of bestNeighbors\n",
    "    sumSimilarities = np.sum(bestNeighbors, axis = 0)\n",
    "\n",
    "    #Compute prediction: dot product of the items in ratings @ bestNeighbors divided by the corresponding sum of similarities\n",
    "    predictions = np.dot(ratings, bestNeighbors)\n",
    "    predictions = predictions / sumSimilarities\n",
    "    predictions[np.isnan(predictions)] = 0.0\n",
    "    return predictions"
   ]
  },
  {
   "cell_type": "code",
   "execution_count": 236,
   "metadata": {
    "collapsed": true
   },
   "outputs": [],
   "source": [
    "def compute_matrix_predictions(ratings_matrix, ratings_to_predict, similarity_matrix, K_best):\n",
    "    \"\"\"Compute the wanted predictions by running the compute_predictions_movie for each movie\"\"\"\n",
    "    nb_users = len(ratings_matrix)\n",
    "    nb_movies = len(ratings_matrix[0])\n",
    "    movie_user_matrix = ratings_matrix.T \n",
    "    predictions = []\n",
    "    ### Compute wanted predictions for wanted users\n",
    "    for movie in range(nb_movies):\n",
    "        if(movie % 100 == 0):\n",
    "            print(\"Percentage: {}\".format(100*movie/nb_movies))\n",
    "        users_to_predict = ratings_to_predict[movie]\n",
    "        predictions_movie = compute_predictions_movie(movie_user_matrix, movie, similarity_matrix, users_to_predict, K_best)\n",
    "        predictions.append(predictions_movie)\n",
    "    return predictions"
   ]
  },
  {
   "cell_type": "code",
   "execution_count": 188,
   "metadata": {},
   "outputs": [
    {
     "name": "stdout",
     "output_type": "stream",
     "text": [
      "0\n",
      "10\n",
      "20\n",
      "30\n",
      "40\n",
      "50\n",
      "60\n",
      "70\n",
      "80\n",
      "90\n",
      "100\n",
      "110\n",
      "120\n",
      "130\n",
      "140\n",
      "150\n",
      "160\n",
      "170\n",
      "180\n",
      "190\n",
      "200\n",
      "210\n",
      "220\n",
      "230\n",
      "240\n",
      "250\n",
      "260\n",
      "270\n",
      "280\n",
      "290\n",
      "300\n",
      "310\n",
      "320\n",
      "330\n",
      "340\n",
      "350\n",
      "360\n",
      "370\n",
      "380\n",
      "390\n",
      "400\n",
      "410\n",
      "420\n",
      "430\n",
      "440\n",
      "450\n",
      "460\n",
      "470\n",
      "480\n",
      "490\n",
      "500\n",
      "510\n",
      "520\n",
      "530\n",
      "540\n",
      "550\n",
      "560\n",
      "570\n",
      "580\n",
      "590\n",
      "600\n",
      "610\n",
      "620\n",
      "630\n",
      "640\n",
      "650\n",
      "660\n",
      "670\n",
      "680\n",
      "690\n",
      "700\n",
      "710\n",
      "720\n",
      "730\n",
      "740\n",
      "750\n",
      "760\n",
      "770\n",
      "780\n",
      "790\n",
      "800\n",
      "810\n",
      "820\n",
      "830\n",
      "840\n",
      "850\n",
      "860\n",
      "870\n",
      "880\n",
      "890\n",
      "900\n",
      "910\n",
      "920\n",
      "930\n",
      "940\n",
      "950\n",
      "960\n",
      "970\n",
      "980\n",
      "990\n"
     ]
    }
   ],
   "source": [
    "predictions_matrix = compute_matrix_predictions(ratings_matrix, ratings_to_predict, cosine_matrix, 100)"
   ]
  },
  {
   "cell_type": "markdown",
   "metadata": {
    "collapsed": true
   },
   "source": [
    "## 4. Submission"
   ]
  },
  {
   "cell_type": "code",
   "execution_count": 222,
   "metadata": {
    "collapsed": true
   },
   "outputs": [],
   "source": [
    "def convert_ids_for_submission(ids):\n",
    "    result = []\n",
    "    for id_ in ids:\n",
    "        newId = 'r'+str(id_[0])+'_c'+str(id_[1])\n",
    "        result.append(newId)\n",
    "    return result"
   ]
  },
  {
   "cell_type": "code",
   "execution_count": 232,
   "metadata": {
    "collapsed": true
   },
   "outputs": [],
   "source": [
    "def create_csv_submission(ids, pred, name):\n",
    "    \"\"\"\n",
    "    Creates an output file in csv format for submission to kaggle\n",
    "    Arguments: ids (ids of user,movies we want to predict)\n",
    "               pred (predicted ratings)\n",
    "               name (string name of .csv output file to be created)\n",
    "    \"\"\"\n",
    "    with open(name, 'w') as csvfile:\n",
    "        fieldnames = ['Id', 'Prediction']\n",
    "        writer = csv.DictWriter(csvfile, delimiter=\",\", fieldnames=fieldnames, lineterminator = '\\n')\n",
    "        writer.writeheader()\n",
    "        for r1, r2 in zip(ids, pred):\n",
    "            writer.writerow({'Id':str(r1),'Prediction':float(r2)})"
   ]
  },
  {
   "cell_type": "code",
   "execution_count": 224,
   "metadata": {
    "collapsed": true
   },
   "outputs": [],
   "source": [
    "ids_sub = convert_ids_for_submission(sample_ids)"
   ]
  },
  {
   "cell_type": "code",
   "execution_count": 238,
   "metadata": {},
   "outputs": [
    {
     "name": "stdout",
     "output_type": "stream",
     "text": [
      "1176952 1176952\n"
     ]
    }
   ],
   "source": [
    "### Flatten the matrix row by row into a list of predictions\n",
    "preds = [p for movie_preds in predictions_matrix for p in movie_preds]\n",
    "### Create csv submission\n",
    "print(len(ids_sub), len(preds))\n",
    "create_csv_submission(ids_sub, preds, \"user-userCF.csv\")"
   ]
  },
  {
   "cell_type": "code",
   "execution_count": null,
   "metadata": {
    "collapsed": true
   },
   "outputs": [],
   "source": []
  }
 ],
 "metadata": {
  "kernelspec": {
   "display_name": "Python [conda root]",
   "language": "python",
   "name": "conda-root-py"
  },
  "language_info": {
   "codemirror_mode": {
    "name": "ipython",
    "version": 3
   },
   "file_extension": ".py",
   "mimetype": "text/x-python",
   "name": "python",
   "nbconvert_exporter": "python",
   "pygments_lexer": "ipython3",
   "version": "3.6.1"
  }
 },
 "nbformat": 4,
 "nbformat_minor": 2
}
