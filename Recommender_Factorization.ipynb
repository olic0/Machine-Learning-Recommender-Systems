{
 "cells": [
  {
   "cell_type": "code",
   "execution_count": 129,
   "metadata": {},
   "outputs": [
    {
     "name": "stdout",
     "output_type": "stream",
     "text": [
      "The autoreload extension is already loaded. To reload it, use:\n",
      "  %reload_ext autoreload\n"
     ]
    }
   ],
   "source": [
    "# Useful starting lines\n",
    "%matplotlib inline\n",
    "import numpy as np\n",
    "import scipy\n",
    "import scipy.io\n",
    "import scipy.sparse as sp\n",
    "import seaborn as sns\n",
    "import matplotlib.pyplot as plt\n",
    "%load_ext autoreload\n",
    "%autoreload 2"
   ]
  },
  {
   "cell_type": "markdown",
   "metadata": {},
   "source": [
    "## Load the Data\n",
    "Note that `ratings` is a sparse matrix that in the shape of (num_items, num_users)"
   ]
  },
  {
   "cell_type": "code",
   "execution_count": 117,
   "metadata": {},
   "outputs": [
    {
     "name": "stdout",
     "output_type": "stream",
     "text": [
      "number of items: 1000, number of users: 10000\n",
      "number of items: 1000, number of users: 10000\n",
      "(1000, 10000)\n"
     ]
    }
   ],
   "source": [
    "from pre_post_process import *\n",
    "\n",
    "_, ratings = load_data(\"data_train.csv\")\n",
    "sample_ids, _ = load_data(\"sample_submission.csv\")\n",
    "print(np.shape(ratings))"
   ]
  },
  {
   "cell_type": "markdown",
   "metadata": {},
   "source": [
    "### Plot the number of ratings per movie and user"
   ]
  },
  {
   "cell_type": "code",
   "execution_count": 4,
   "metadata": {
    "scrolled": false
   },
   "outputs": [
    {
     "data": {
      "image/png": "[encoded data removed]",
      "text/plain": [
       "<matplotlib.figure.Figure at 0x1c7fbf61a90>"
      ]
     },
     "metadata": {},
     "output_type": "display_data"
    },
    {
     "name": "stdout",
     "output_type": "stream",
     "text": [
      "min # of items per user = 3, min # of users per item = 8.\n"
     ]
    }
   ],
   "source": [
    "from plots import plot_raw_data\n",
    "\n",
    "num_items_per_user, num_users_per_item = plot_raw_data(ratings)\n",
    "\n",
    "print(\"min # of items per user = {}, min # of users per item = {}.\".format(\n",
    "        min(num_items_per_user), min(num_users_per_item)))"
   ]
  },
  {
   "cell_type": "markdown",
   "metadata": {},
   "source": [
    "### Split the data into a train and test set"
   ]
  },
  {
   "cell_type": "code",
   "execution_count": 106,
   "metadata": {
    "scrolled": true
   },
   "outputs": [
    {
     "name": "stdout",
     "output_type": "stream",
     "text": [
      "the shape of original ratings. (# of row, # of col): (1000, 10000)\n",
      "the shape of valid ratings. (# of row, # of col): (1000, 10000)\n",
      "Total number of nonzero elements in origial data:1176952\n",
      "Total number of nonzero elements in train data:1068598\n",
      "Total number of nonzero elements in test data:108354\n"
     ]
    }
   ],
   "source": [
    "valid_ratings, train, test = split_data(ratings, p_test=0.1)"
   ]
  },
  {
   "cell_type": "markdown",
   "metadata": {},
   "source": [
    "### Finding parameters for SGD"
   ]
  },
  {
   "cell_type": "code",
   "execution_count": 6,
   "metadata": {
    "collapsed": true
   },
   "outputs": [],
   "source": [
    "from SGD_helpers import *"
   ]
  },
  {
   "cell_type": "markdown",
   "metadata": {},
   "source": [
    "We need to find the values of the step size $\\gamma$ first for a fixed value of the 3 other parameters and then compute a grid search to find the best parameters for the regularizers $\\lambda_{user}$, $\\lambda_{item}$ (both between 0 and 1) and the number of features $K$"
   ]
  },
  {
   "cell_type": "code",
   "execution_count": 159,
   "metadata": {},
   "outputs": [
    {
     "name": "stdout",
     "output_type": "stream",
     "text": [
      "Learn the matrix factorization using SGD with K = 50, lambda_i = 0.01, lambda_u = 0.01\n",
      "iter: 0, RMSE on training set: 1.0254163402880199.\n",
      "iter: 5, RMSE on training set: 0.9970562707025038.\n",
      "iter: 10, RMSE on training set: 0.9878420873516897.\n",
      "iter: 15, RMSE on training set: 0.9827800385900544.\n",
      "RMSE on test data: 0.9956946199719938.\n",
      "Learn the matrix factorization using SGD with K = 50, lambda_i = 0.01, lambda_u = 0.01\n",
      "iter: 0, RMSE on training set: 1.0476258793239321.\n",
      "iter: 5, RMSE on training set: 0.9589571948307791.\n",
      "iter: 10, RMSE on training set: 0.8527435785856862.\n",
      "iter: 15, RMSE on training set: 0.8095947135380929.\n",
      "RMSE on test data: 1.0043973015749026.\n",
      "Learn the matrix factorization using SGD with K = 50, lambda_i = 0.01, lambda_u = 0.01\n",
      "iter: 0, RMSE on training set: 1.0919266199950395.\n",
      "iter: 5, RMSE on training set: 0.7711472883038539.\n",
      "iter: 10, RMSE on training set: 0.6921353233596186.\n",
      "iter: 15, RMSE on training set: 0.6730727947086461.\n",
      "RMSE on test data: 1.1173694899753186.\n"
     ]
    }
   ],
   "source": [
    "# Finding gamma:\n",
    "gammas = np.logspace(-5,0,6)\n",
    "K = 50\n",
    "lambda_user = 0.01\n",
    "lambda_item = 0.01\n",
    "num_epochs = 20\n",
    "errors = []\n",
    "\n",
    "for gamma in gammas:\n",
    "    # Initialize features matrix\n",
    "    user_init, item_init = init_MF(train, K)\n",
    "    # Compute SGD\n",
    "    _, _, rmse = matrix_factorization_SGD(train, test, gamma, K, lambda_user, lambda_item, num_epochs, user_init, item_init)\n",
    "    errors.append(rmse)"
   ]
  },
  {
   "cell_type": "markdown",
   "metadata": {},
   "source": [
    "After many computations (not only on logspace) for same parameters for K and the 2 lambdas, we found that $\\gamma = 0.025$ is the best"
   ]
  },
  {
   "cell_type": "code",
   "execution_count": 152,
   "metadata": {},
   "outputs": [
    {
     "name": "stdout",
     "output_type": "stream",
     "text": [
      "K = 20, lambda_u = 1.0, lambda_i = 1.0\n",
      "Learn the matrix factorization using SGD with K = 20, lambda_i = 1.0, lambda_u = 1.0, num_epochs = 20\n",
      "iter: 0, RMSE on training set: 1.4249950378246499.\n",
      "iter: 5, RMSE on training set: 1.4120160645284874.\n",
      "iter: 10, RMSE on training set: 1.4116068716286072.\n",
      "iter: 15, RMSE on training set: 1.4077530504972702.\n",
      "iter: 19, RMSE on training set: 1.409888223828191.\n",
      "RMSE on test data: 1.4164969529686207.\n",
      "K = 20, lambda_u = 1.0, lambda_i = 0.1\n",
      "Learn the matrix factorization using SGD with K = 20, lambda_i = 0.1, lambda_u = 1.0, num_epochs = 20\n",
      "iter: 0, RMSE on training set: 1.095432153262666.\n",
      "iter: 5, RMSE on training set: 1.0608482058112438.\n",
      "iter: 10, RMSE on training set: 1.0468110995020465.\n",
      "iter: 15, RMSE on training set: 1.0409872553950328.\n",
      "iter: 19, RMSE on training set: 1.0404915029256618.\n",
      "RMSE on test data: 1.0488797723925372.\n",
      "K = 20, lambda_u = 1.0, lambda_i = 0.01\n",
      "Learn the matrix factorization using SGD with K = 20, lambda_i = 0.01, lambda_u = 1.0, num_epochs = 20\n",
      "iter: 0, RMSE on training set: 1.1359222859779368.\n",
      "iter: 5, RMSE on training set: 1.0589670769469557.\n",
      "iter: 10, RMSE on training set: 1.0204736112964188.\n",
      "iter: 15, RMSE on training set: 1.003606534996322.\n",
      "iter: 19, RMSE on training set: 0.9985067157995878.\n",
      "RMSE on test data: 1.007325907165545.\n",
      "K = 20, lambda_u = 1.0, lambda_i = 0.001\n",
      "Learn the matrix factorization using SGD with K = 20, lambda_i = 0.001, lambda_u = 1.0, num_epochs = 20\n",
      "iter: 0, RMSE on training set: 1.1997141023516127.\n",
      "iter: 5, RMSE on training set: 1.0862645465745022.\n",
      "iter: 10, RMSE on training set: 1.0333696408396116.\n",
      "iter: 15, RMSE on training set: 1.0073407040965776.\n",
      "iter: 19, RMSE on training set: 0.9983632198956811.\n",
      "RMSE on test data: 1.007317205492175.\n",
      "K = 20, lambda_u = 0.1, lambda_i = 1.0\n",
      "Learn the matrix factorization using SGD with K = 20, lambda_i = 1.0, lambda_u = 0.1, num_epochs = 20\n",
      "iter: 0, RMSE on training set: 1.1342873767455153.\n",
      "iter: 5, RMSE on training set: 1.0648640896645314.\n",
      "iter: 10, RMSE on training set: 1.0476844830340575.\n",
      "iter: 15, RMSE on training set: 1.0411312505186956.\n",
      "iter: 19, RMSE on training set: 1.042280422457007.\n",
      "RMSE on test data: 1.0502526845145599.\n",
      "K = 20, lambda_u = 0.1, lambda_i = 0.1\n",
      "Learn the matrix factorization using SGD with K = 20, lambda_i = 0.1, lambda_u = 0.1, num_epochs = 20\n",
      "iter: 0, RMSE on training set: 1.0408274991976643.\n",
      "iter: 5, RMSE on training set: 1.0073440586428652.\n",
      "iter: 10, RMSE on training set: 0.9978142981052059.\n",
      "iter: 15, RMSE on training set: 0.9939154567284488.\n",
      "iter: 19, RMSE on training set: 0.9933729250046408.\n",
      "RMSE on test data: 1.0029100178802055.\n",
      "K = 20, lambda_u = 0.1, lambda_i = 0.01\n",
      "Learn the matrix factorization using SGD with K = 20, lambda_i = 0.01, lambda_u = 0.1, num_epochs = 20\n",
      "iter: 0, RMSE on training set: 1.0165845304507841.\n",
      "iter: 5, RMSE on training set: 0.9762386648906932.\n",
      "iter: 10, RMSE on training set: 0.9542887048198121.\n",
      "iter: 15, RMSE on training set: 0.9455975862858718.\n",
      "iter: 19, RMSE on training set: 0.9433588385535137.\n",
      "RMSE on test data: 0.9840828212359074.\n",
      "K = 20, lambda_u = 0.1, lambda_i = 0.001\n",
      "Learn the matrix factorization using SGD with K = 20, lambda_i = 0.001, lambda_u = 0.1, num_epochs = 20\n",
      "iter: 0, RMSE on training set: 0.992769207024095.\n",
      "iter: 5, RMSE on training set: 0.9017940163181095.\n",
      "iter: 10, RMSE on training set: 0.8635624013150922.\n",
      "iter: 15, RMSE on training set: 0.8504625005391659.\n",
      "iter: 19, RMSE on training set: 0.8469593816281755.\n",
      "RMSE on test data: 1.0188419122867824.\n",
      "K = 20, lambda_u = 0.01, lambda_i = 1.0\n",
      "Learn the matrix factorization using SGD with K = 20, lambda_i = 1.0, lambda_u = 0.01, num_epochs = 20\n",
      "iter: 0, RMSE on training set: 1.1174160393170227.\n",
      "iter: 5, RMSE on training set: 1.0546719806269316.\n",
      "iter: 10, RMSE on training set: 1.0151502418661245.\n",
      "iter: 15, RMSE on training set: 1.0016449447132185.\n",
      "iter: 19, RMSE on training set: 0.9992624482889944.\n",
      "RMSE on test data: 1.0108625459647997.\n",
      "K = 20, lambda_u = 0.01, lambda_i = 0.1\n",
      "Learn the matrix factorization using SGD with K = 20, lambda_i = 0.1, lambda_u = 0.01, num_epochs = 20\n",
      "iter: 0, RMSE on training set: 0.9987834251785068.\n",
      "iter: 5, RMSE on training set: 0.9593386225689217.\n",
      "iter: 10, RMSE on training set: 0.9412612210105208.\n",
      "iter: 15, RMSE on training set: 0.9344603696175485.\n",
      "iter: 19, RMSE on training set: 0.9325587398627134.\n",
      "RMSE on test data: 0.9817247550777575.\n",
      "K = 20, lambda_u = 0.01, lambda_i = 0.01\n",
      "Learn the matrix factorization using SGD with K = 20, lambda_i = 0.01, lambda_u = 0.01, num_epochs = 20\n",
      "iter: 0, RMSE on training set: 0.9564984629819709.\n",
      "iter: 5, RMSE on training set: 0.8703138298502667.\n",
      "iter: 10, RMSE on training set: 0.8455988034186335.\n",
      "iter: 15, RMSE on training set: 0.83867899751741.\n",
      "iter: 19, RMSE on training set: 0.8364230035018011.\n",
      "RMSE on test data: 1.0243093200774391.\n",
      "K = 20, lambda_u = 0.01, lambda_i = 0.001\n",
      "Learn the matrix factorization using SGD with K = 20, lambda_i = 0.001, lambda_u = 0.01, num_epochs = 20\n",
      "iter: 0, RMSE on training set: 0.9523504350592787.\n",
      "iter: 5, RMSE on training set: 0.8599655761634792.\n",
      "iter: 10, RMSE on training set: 0.8374265719498548.\n",
      "iter: 15, RMSE on training set: 0.8311203490217418.\n",
      "iter: 19, RMSE on training set: 0.8290546556308022.\n",
      "RMSE on test data: 1.0465877619505015.\n",
      "K = 20, lambda_u = 0.001, lambda_i = 1.0\n",
      "Learn the matrix factorization using SGD with K = 20, lambda_i = 1.0, lambda_u = 0.001, num_epochs = 20\n",
      "iter: 0, RMSE on training set: 1.0872299288239993.\n",
      "iter: 5, RMSE on training set: 1.0415250492473387.\n",
      "iter: 10, RMSE on training set: 0.9939115899807948.\n",
      "iter: 15, RMSE on training set: 0.9776837063993379.\n",
      "iter: 19, RMSE on training set: 0.9740977655906555.\n",
      "RMSE on test data: 0.9994959628489526.\n",
      "K = 20, lambda_u = 0.001, lambda_i = 0.1\n",
      "Learn the matrix factorization using SGD with K = 20, lambda_i = 0.1, lambda_u = 0.001, num_epochs = 20\n",
      "iter: 0, RMSE on training set: 0.9850631978209555.\n",
      "iter: 5, RMSE on training set: 0.935728896559892.\n",
      "iter: 10, RMSE on training set: 0.9070788177591255.\n",
      "iter: 15, RMSE on training set: 0.8976494495223947.\n",
      "iter: 19, RMSE on training set: 0.8945783265207075.\n",
      "RMSE on test data: 0.9857769718734058.\n",
      "K = 20, lambda_u = 0.001, lambda_i = 0.01\n",
      "Learn the matrix factorization using SGD with K = 20, lambda_i = 0.01, lambda_u = 0.001, num_epochs = 20\n",
      "iter: 0, RMSE on training set: 0.9585368676692019.\n",
      "iter: 5, RMSE on training set: 0.8732672561615455.\n",
      "iter: 10, RMSE on training set: 0.8469912124184793.\n",
      "iter: 15, RMSE on training set: 0.83949584548492.\n",
      "iter: 19, RMSE on training set: 0.836884316794687.\n",
      "RMSE on test data: 1.0270479833121338.\n",
      "K = 20, lambda_u = 0.001, lambda_i = 0.001\n",
      "Learn the matrix factorization using SGD with K = 20, lambda_i = 0.001, lambda_u = 0.001, num_epochs = 20\n",
      "iter: 0, RMSE on training set: 0.9544255552875146.\n",
      "iter: 5, RMSE on training set: 0.8633273551001276.\n",
      "iter: 10, RMSE on training set: 0.8392306728144813.\n",
      "iter: 15, RMSE on training set: 0.8323065374683039.\n",
      "iter: 19, RMSE on training set: 0.8298744218801378.\n",
      "RMSE on test data: 1.04812796648114.\n"
     ]
    }
   ],
   "source": [
    "# Grid Search:\n",
    "grid = np.zeros((4, 4, 4))\n",
    "gamma = 0.025 # best gamma we found above\n",
    "num_epochs = 20\n",
    "lambdas_user = np.logspace(-3,0,4)[::-1] #From max to min\n",
    "lambdas_item = np.logspace(-3,0,4)[::-1]\n",
    "num_features = [20]#np.linspace(20,100,4)\n",
    "min_loss = 100000\n",
    "best_user_features = []\n",
    "best_item_features = []\n",
    "\n",
    "for x,K in enumerate(num_features):\n",
    "    ### Warm start: directly start computation from previously computed item_features and user_features and not random initialization \n",
    "    user_init, item_init = init_MF(train, int(K))\n",
    "    for y,lambda_u in enumerate(lambdas_user):\n",
    "        for z,lambda_i in enumerate(lambdas_item):\n",
    "            print(\"K = {}, lambda_u = {}, lambda_i = {}\".format(int(K), lambda_u, lambda_i))\n",
    "            item_feats, user_feats, rmse = matrix_factorization_SGD(train, test, gamma, int(K), lambda_u, lambda_i, num_epochs,\n",
    "                                                                    user_init, item_init)\n",
    "            ### For warm start, we keep the user_features and item_features that gave us the minimal rmse previously computed\n",
    "            if rmse < min_loss:\n",
    "                min_loss = rmse\n",
    "                user_init = user_feats\n",
    "                item_init = item_feats\n",
    "                best_user_features = np.copy(user_feats)\n",
    "                best_item_features = np.copy(item_feats)\n",
    "            grid[x, y, z] = rmse"
   ]
  },
  {
   "cell_type": "markdown",
   "metadata": {},
   "source": [
    "As showed in the following grid, we see that the minimal loss is obtained for parameters $\\lambda_{user} = 0.1$ and $\\lambda_{item} = 0.01$ and number of features $K = 20$ :"
   ]
  },
  {
   "cell_type": "code",
   "execution_count": 169,
   "metadata": {},
   "outputs": [
    {
     "data": {
      "text/plain": [
       "<matplotlib.text.Text at 0x1c79192e9e8>"
      ]
     },
     "execution_count": 169,
     "metadata": {},
     "output_type": "execute_result"
    },
    {
     "data": {
      "image/png": "[encoded data removed]",
      "text/plain": [
       "<matplotlib.figure.Figure at 0x1c7a2ea5320>"
      ]
     },
     "metadata": {},
     "output_type": "display_data"
    }
   ],
   "source": [
    "grid = np.matrix([[1.0481,1.02704,0.98577,0.9994],[1.0465, 1.0243, 0.9817, 1.0108],[1.0188, 0.9840, 1.0029, 1.0502],[1.007, 1.007, 1.048, 1.1]])\n",
    "fig, ax = plt.subplots(figsize=(15, 7.5))\n",
    "#cmap = sns.light_palette((260, 75, 60), input=\"husl\", reverse = True)\n",
    "sns.heatmap(grid, ax = ax, square = True, annot = True, linewidth = 0.5, fmt='g')\n",
    "lambdas_test1 = [0.001, 0.01, 0.1, 1.0]\n",
    "lambdas_test2 = [0.001, 0.01, 0.1, 1.0]\n",
    "ax.set_xticklabels(lambdas_test1)\n",
    "ax.set_yticklabels(lambdas_test2)\n",
    "ax.set_xlabel(\"Lambda item\")\n",
    "ax.set_ylabel(\"Lambda user\")\n",
    "plt.title(\"Grid Search for minimal RMSE depending on regularizers lambda user and lambda item\")"
   ]
  },
  {
   "cell_type": "markdown",
   "metadata": {},
   "source": [
    "Run the SGD with the best parameters we found:"
   ]
  },
  {
   "cell_type": "code",
   "execution_count": 130,
   "metadata": {
    "scrolled": false
   },
   "outputs": [
    {
     "name": "stdout",
     "output_type": "stream",
     "text": [
      "Learn the matrix factorization using SGD with K = 20, lambda_i = 0.01, lambda_u = 0.1, num_epochs = 20\n",
      "iter: 0, RMSE on training set: 1.039015495480253.\n",
      "iter: 5, RMSE on training set: 0.9526161748466169.\n",
      "iter: 10, RMSE on training set: 0.9119143765305943.\n",
      "iter: 15, RMSE on training set: 0.8980931229390914.\n",
      "iter: 19, RMSE on training set: 0.894368802114211.\n",
      "RMSE on test data: 0.894983953589312.\n"
     ]
    }
   ],
   "source": [
    "best_gamma = 0.025\n",
    "best_lambda_u = 0.1\n",
    "best_lambda_i = 0.01\n",
    "K = 20\n",
    "num_epochs = 20\n",
    "\n",
    "user_init, item_init = init_MF(ratings, K)\n",
    "item_feats_SGD, user_feats_SGD, rmse = matrix_factorization_SGD(ratings, test, best_gamma, K, best_lambda_u, best_lambda_i, num_epochs,\n",
    "                                                                    user_init, item_init, include_test = True)"
   ]
  },
  {
   "cell_type": "code",
   "execution_count": 163,
   "metadata": {},
   "outputs": [
    {
     "name": "stdout",
     "output_type": "stream",
     "text": [
      "Shape of predictions (user x items): (1000, 10000)\n"
     ]
    }
   ],
   "source": [
    "predictions = np.dot(item_feats.T, user_feats)\n",
    "print(\"Shape of predictions (user x items): {}\".format(np.shape(predictions)))"
   ]
  },
  {
   "cell_type": "markdown",
   "metadata": {},
   "source": [
    "### Adding biases"
   ]
  },
  {
   "cell_type": "code",
   "execution_count": 92,
   "metadata": {
    "collapsed": true
   },
   "outputs": [],
   "source": [
    "from bias_helpers import *"
   ]
  },
  {
   "cell_type": "markdown",
   "metadata": {},
   "source": [
    "Instead of having $p_{u, i} = \\mathbf{w}_i\\mathbf{z^{T}}_u$ we would add bias on the user and item by having the following:\n",
    "$$p_{u, i} = \\mu + b_{u} + b_{i} + \\mathbf{w}_i\\mathbf{z^{T}}_u$$\n",
    "\n",
    "where $\\mu$ is the average of all ratings, $b_{u}$ and $b_{i}$ are the observed deviations of user u and item i respectively from the average (the biases).\n",
    "\n",
    "Thus we now want to find the best $\\mathbf{W}$ and $\\mathbf{Z}$ that minimizes the loss:\n",
    "\n",
    "$$min_{W,Z} \\sum_{(u, i) \\in \\Omega} (r_{u,i} - \\mu - b_{u} - b_{i} - \\mathbf{W_{u}} \\mathbf{Z^{T}_{i}}) + \\lambda_{item} (||W||_{F}^{2} + b_{i}^{2}) + \\lambda_{user} (||Z||_{F}^{2} + b_{u}^{2}) $$\n",
    "\n",
    "And we need to compute the gradient of this loss. It is the same as before except we can convert our rating matrix to a biased rating matrix with ratings $r'_{u, i} = r_{u, i} - \\mu - b_{u} - b_{i}$ and compute our SGD on this biased matrix"
   ]
  },
  {
   "cell_type": "code",
   "execution_count": 174,
   "metadata": {},
   "outputs": [
    {
     "name": "stderr",
     "output_type": "stream",
     "text": [
      "C:\\Users\\olivi\\Documents\\semestre7\\MachineLearning\\ML_course\\projects\\project2\\project_recommender_system\\bias_helpers.py:27: RuntimeWarning: invalid value encountered in true_divide\n",
      "  mean_items = [mean_items[i, 0] for i in range(num_items)]/nz_items\n",
      "C:\\Users\\olivi\\Documents\\semestre7\\MachineLearning\\ML_course\\projects\\project2\\project_recommender_system\\bias_helpers.py:29: RuntimeWarning: invalid value encountered in true_divide\n",
      "  bias_users = mean_users - np.ones(num_users) * mu\n"
     ]
    }
   ],
   "source": [
    "bias_train, mean, bias_u_train, bias_i_train = computeBiasMatrix(ratings) #ratings for final submissions\n",
    "bias_test, _, _, _ = computeBiasMatrix(test)"
   ]
  },
  {
   "cell_type": "markdown",
   "metadata": {},
   "source": [
    "Compute grid search with best parameters:"
   ]
  },
  {
   "cell_type": "code",
   "execution_count": 168,
   "metadata": {},
   "outputs": [
    {
     "name": "stdout",
     "output_type": "stream",
     "text": [
      "K = 20, lambda_u = 1.0, lambda_i = 1.0\n",
      "Learn the matrix factorization using SGD with K = 20, lambda_i = 1.0, lambda_u = 1.0, num_epochs = 20\n",
      "iter: 0, RMSE on training set: 0.9950116460840475.\n",
      "iter: 5, RMSE on training set: 0.9950141371196208.\n",
      "iter: 10, RMSE on training set: 0.9950141496724862.\n",
      "iter: 15, RMSE on training set: 0.9950141514276349.\n",
      "iter: 19, RMSE on training set: 0.995014151868941.\n",
      "RMSE on test data: 0.9584170940125771.\n",
      "New best\n",
      "K = 20, lambda_u = 1.0, lambda_i = 0.1\n",
      "Learn the matrix factorization using SGD with K = 20, lambda_i = 0.1, lambda_u = 1.0, num_epochs = 20\n",
      "iter: 0, RMSE on training set: 0.994964217375352.\n",
      "iter: 5, RMSE on training set: 0.9950123476256876.\n",
      "iter: 10, RMSE on training set: 0.9950134444785728.\n",
      "iter: 15, RMSE on training set: 0.9950136363532148.\n",
      "iter: 19, RMSE on training set: 0.9950136871719619.\n",
      "RMSE on test data: 0.9584168616132692.\n",
      "New best\n",
      "K = 20, lambda_u = 1.0, lambda_i = 0.01\n",
      "Learn the matrix factorization using SGD with K = 20, lambda_i = 0.01, lambda_u = 1.0, num_epochs = 20\n",
      "iter: 0, RMSE on training set: 0.9948708243852137.\n",
      "iter: 5, RMSE on training set: 0.993743884861963.\n",
      "iter: 10, RMSE on training set: 0.9922168789018628.\n",
      "iter: 15, RMSE on training set: 0.9913362675017984.\n",
      "iter: 19, RMSE on training set: 0.9909996841322264.\n",
      "RMSE on test data: 0.9557940320752265.\n",
      "New best\n",
      "K = 20, lambda_u = 1.0, lambda_i = 0.001\n",
      "Learn the matrix factorization using SGD with K = 20, lambda_i = 0.001, lambda_u = 1.0, num_epochs = 20\n",
      "iter: 0, RMSE on training set: 0.9948563440387007.\n",
      "iter: 5, RMSE on training set: 0.9908909793752926.\n",
      "iter: 10, RMSE on training set: 0.9864622930030867.\n",
      "iter: 15, RMSE on training set: 0.9846292447079606.\n",
      "iter: 19, RMSE on training set: 0.9839205925679237.\n",
      "RMSE on test data: 0.952498008207872.\n",
      "New best\n",
      "K = 20, lambda_u = 0.1, lambda_i = 1.0\n",
      "Learn the matrix factorization using SGD with K = 20, lambda_i = 1.0, lambda_u = 0.1, num_epochs = 20\n",
      "iter: 0, RMSE on training set: 0.99500667430772.\n",
      "iter: 5, RMSE on training set: 0.9950062528997576.\n",
      "iter: 10, RMSE on training set: 0.9950070991583585.\n",
      "iter: 15, RMSE on training set: 0.9950073863200593.\n",
      "iter: 19, RMSE on training set: 0.9950073347286285.\n",
      "RMSE on test data: 0.958409878400389.\n",
      "K = 20, lambda_u = 0.1, lambda_i = 0.1\n",
      "Learn the matrix factorization using SGD with K = 20, lambda_i = 0.1, lambda_u = 0.1, num_epochs = 20\n",
      "iter: 0, RMSE on training set: 0.9949152037960363.\n",
      "iter: 5, RMSE on training set: 0.9942259390485192.\n",
      "iter: 10, RMSE on training set: 0.9933736635172215.\n",
      "iter: 15, RMSE on training set: 0.9928799477634365.\n",
      "iter: 19, RMSE on training set: 0.9926878283409385.\n",
      "RMSE on test data: 0.9567360094416756.\n",
      "K = 20, lambda_u = 0.1, lambda_i = 0.01\n",
      "Learn the matrix factorization using SGD with K = 20, lambda_i = 0.01, lambda_u = 0.1, num_epochs = 20\n",
      "iter: 0, RMSE on training set: 0.9945388006154211.\n",
      "iter: 5, RMSE on training set: 0.9751066475604303.\n",
      "iter: 10, RMSE on training set: 0.9518605334547392.\n",
      "iter: 15, RMSE on training set: 0.9380681187085815.\n",
      "iter: 19, RMSE on training set: 0.9326903278754424.\n",
      "RMSE on test data: 0.943281956308979.\n",
      "New best\n",
      "K = 20, lambda_u = 0.1, lambda_i = 0.001\n",
      "Learn the matrix factorization using SGD with K = 20, lambda_i = 0.001, lambda_u = 0.1, num_epochs = 20\n",
      "iter: 0, RMSE on training set: 0.9943392665307159.\n",
      "iter: 5, RMSE on training set: 0.9606931962478595.\n",
      "iter: 10, RMSE on training set: 0.9129347296302568.\n",
      "iter: 15, RMSE on training set: 0.8937591119431266.\n",
      "iter: 19, RMSE on training set: 0.8880427831618435.\n",
      "RMSE on test data: 0.9600043927775016.\n",
      "K = 20, lambda_u = 0.01, lambda_i = 1.0\n",
      "Learn the matrix factorization using SGD with K = 20, lambda_i = 1.0, lambda_u = 0.01, num_epochs = 20\n",
      "iter: 0, RMSE on training set: 0.9950031484541876.\n",
      "iter: 5, RMSE on training set: 0.9949971221478694.\n",
      "iter: 10, RMSE on training set: 0.9949938069093289.\n",
      "iter: 15, RMSE on training set: 0.9949925165691785.\n",
      "iter: 19, RMSE on training set: 0.9949924533674485.\n",
      "RMSE on test data: 0.9583980977285246.\n",
      "K = 20, lambda_u = 0.01, lambda_i = 0.1\n",
      "Learn the matrix factorization using SGD with K = 20, lambda_i = 0.1, lambda_u = 0.01, num_epochs = 20\n",
      "iter: 0, RMSE on training set: 0.9948723922018305.\n",
      "iter: 5, RMSE on training set: 0.9918682795953441.\n",
      "iter: 10, RMSE on training set: 0.9881823662180893.\n",
      "iter: 15, RMSE on training set: 0.9867251654290369.\n",
      "iter: 19, RMSE on training set: 0.9862418499033848.\n",
      "RMSE on test data: 0.9525308198257507.\n",
      "K = 20, lambda_u = 0.01, lambda_i = 0.01\n",
      "Learn the matrix factorization using SGD with K = 20, lambda_i = 0.01, lambda_u = 0.01, num_epochs = 20\n",
      "iter: 0, RMSE on training set: 0.9942381727705102.\n",
      "iter: 5, RMSE on training set: 0.9657921092716766.\n",
      "iter: 10, RMSE on training set: 0.9212960094075631.\n",
      "iter: 15, RMSE on training set: 0.9014477440850648.\n",
      "iter: 19, RMSE on training set: 0.8952624154947061.\n",
      "RMSE on test data: 0.9540486819155142.\n",
      "K = 20, lambda_u = 0.01, lambda_i = 0.001\n",
      "Learn the matrix factorization using SGD with K = 20, lambda_i = 0.001, lambda_u = 0.01, num_epochs = 20\n",
      "iter: 0, RMSE on training set: 0.9939455731155517.\n",
      "iter: 5, RMSE on training set: 0.9431784105261416.\n",
      "iter: 10, RMSE on training set: 0.8856719426551669.\n",
      "iter: 15, RMSE on training set: 0.8710137713382047.\n",
      "iter: 19, RMSE on training set: 0.8670645623686688.\n",
      "RMSE on test data: 0.9840371861497856.\n",
      "K = 20, lambda_u = 0.001, lambda_i = 1.0\n",
      "Learn the matrix factorization using SGD with K = 20, lambda_i = 1.0, lambda_u = 0.001, num_epochs = 20\n",
      "iter: 0, RMSE on training set: 0.9950023491148128.\n",
      "iter: 5, RMSE on training set: 0.9949891307219013.\n",
      "iter: 10, RMSE on training set: 0.9949801034480176.\n",
      "iter: 15, RMSE on training set: 0.9949762003882027.\n",
      "iter: 19, RMSE on training set: 0.9949756139887284.\n",
      "RMSE on test data: 0.9583850028694916.\n",
      "K = 20, lambda_u = 0.001, lambda_i = 0.1\n",
      "Learn the matrix factorization using SGD with K = 20, lambda_i = 0.1, lambda_u = 0.001, num_epochs = 20\n",
      "iter: 0, RMSE on training set: 0.9948637667228123.\n",
      "iter: 5, RMSE on training set: 0.9913235749728923.\n",
      "iter: 10, RMSE on training set: 0.9874554335573391.\n",
      "iter: 15, RMSE on training set: 0.9859933703583109.\n",
      "iter: 19, RMSE on training set: 0.9855033939206064.\n",
      "RMSE on test data: 0.9521876087632557.\n",
      "K = 20, lambda_u = 0.001, lambda_i = 0.01\n",
      "Learn the matrix factorization using SGD with K = 20, lambda_i = 0.01, lambda_u = 0.001, num_epochs = 20\n",
      "iter: 0, RMSE on training set: 0.9941956338542024.\n",
      "iter: 5, RMSE on training set: 0.9642639823641115.\n",
      "iter: 10, RMSE on training set: 0.9174695765736255.\n",
      "iter: 15, RMSE on training set: 0.897804214868363.\n",
      "iter: 19, RMSE on training set: 0.891831632557362.\n",
      "RMSE on test data: 0.9565686734454872.\n",
      "K = 20, lambda_u = 0.001, lambda_i = 0.001\n",
      "Learn the matrix factorization using SGD with K = 20, lambda_i = 0.001, lambda_u = 0.001, num_epochs = 20\n",
      "iter: 0, RMSE on training set: 0.9938930346872145.\n",
      "iter: 5, RMSE on training set: 0.940808968974516.\n",
      "iter: 10, RMSE on training set: 0.883433240252918.\n",
      "iter: 15, RMSE on training set: 0.8694361879127468.\n",
      "iter: 19, RMSE on training set: 0.8656708125632631.\n",
      "RMSE on test data: 0.9871402386235086.\n"
     ]
    }
   ],
   "source": [
    "# Grid Search:\n",
    "grid = np.zeros((4, 4)) ### np.zeros((4, 4, 4))\n",
    "gamma = 0.025 # best gamma we found above\n",
    "num_epochs = 20\n",
    "lambdas_user = np.logspace(-3,0,4)[::-1] #From max to min\n",
    "lambdas_item = np.logspace(-3,0,4)[::-1]\n",
    "#num_features = np.linspace(20,100,4)\n",
    "K = 20\n",
    "min_loss = 100000\n",
    "best_user_feats = []\n",
    "best_item_feats = []\n",
    "\n",
    "### Warm start: directly start computation from previously computed item_features and user_features and not random initialization\n",
    "user_init, item_init = init_MF(bias_train, K)\n",
    "for x,lambda_u in enumerate(lambdas_user):\n",
    "    for y,lambda_i in enumerate(lambdas_item):\n",
    "        print(\"K = {}, lambda_u = {}, lambda_i = {}\".format(int(K), lambda_u, lambda_i))\n",
    "        item_feats, user_feats, rmse = matrix_factorization_SGD(bias_train, bias_test, gamma, K, lambda_u,\n",
    "                                                                lambda_i, num_epochs, user_init, item_init)\n",
    "        ### For warm start, we keep the user_features and item_features that gave us the minimal rmse previously computed\n",
    "        if rmse < min_loss:\n",
    "            print(\"New best\")\n",
    "            min_loss = rmse\n",
    "            user_init = user_feats\n",
    "            item_init = item_feats\n",
    "            best_user_feats = np.copy(user_feats)\n",
    "            best_item_feats = np.copy(item_feats)\n",
    "        grid[x, y] = rmse"
   ]
  },
  {
   "cell_type": "code",
   "execution_count": 175,
   "metadata": {},
   "outputs": [
    {
     "name": "stdout",
     "output_type": "stream",
     "text": [
      "Learn the matrix factorization using SGD with K = 20, lambda_i = 0.01, lambda_u = 0.1, num_epochs = 50\n",
      "iter: 0, RMSE on training set: 0.9948057147421926.\n",
      "iter: 5, RMSE on training set: 0.9718694556686884.\n",
      "iter: 10, RMSE on training set: 0.9483473151299702.\n",
      "iter: 15, RMSE on training set: 0.9344269708524305.\n",
      "iter: 20, RMSE on training set: 0.9283302072018155.\n",
      "iter: 25, RMSE on training set: 0.9258515942108939.\n",
      "iter: 30, RMSE on training set: 0.9248543886148187.\n",
      "iter: 35, RMSE on training set: 0.9244536756901859.\n",
      "iter: 40, RMSE on training set: 0.924292657134911.\n",
      "iter: 45, RMSE on training set: 0.9242279517059699.\n",
      "iter: 49, RMSE on training set: 0.9242054430662141.\n"
     ]
    }
   ],
   "source": [
    "# define parameters\n",
    "gamma = 0.025\n",
    "K = 20\n",
    "lambda_user = 0.1\n",
    "lambda_item = 0.01\n",
    "num_epochs = 50\n",
    "user_init, item_init = init_MF(bias_train, K)\n",
    "\n",
    "item_featuresSGD, user_featuresSGD, rmse = matrix_factorization_SGD(bias_train, bias_test, gamma, K, lambda_user,\n",
    "                                                              lambda_item, num_epochs, user_init, item_init, include_test = False)"
   ]
  },
  {
   "cell_type": "markdown",
   "metadata": {},
   "source": [
    "Compute the predictions:"
   ]
  },
  {
   "cell_type": "code",
   "execution_count": 170,
   "metadata": {},
   "outputs": [
    {
     "name": "stdout",
     "output_type": "stream",
     "text": [
      "Shape of predictions (user x items): (1000, 10000)\n"
     ]
    }
   ],
   "source": [
    "# Compute predictions matrix from the biases, item and user features computed with SGD\n",
    "predictions = predictionsWithBias(best_item_feats, best_user_feats, bias_u_train, bias_i_train, mean)\n",
    "print(\"Shape of predictions (user x items): {}\".format(np.shape(predictions)))"
   ]
  },
  {
   "cell_type": "code",
   "execution_count": 171,
   "metadata": {},
   "outputs": [
    {
     "name": "stdout",
     "output_type": "stream",
     "text": [
      "1 37\n",
      "3.9243063502\n"
     ]
    }
   ],
   "source": [
    "### Checking if results appear the same in the final excel file\n",
    "first_user, first_item = sample_ids[0][0],sample_ids[0][1]\n",
    "print(first_item, first_user)\n",
    "print(predictions[first_user - 1, first_item - 1])"
   ]
  },
  {
   "cell_type": "markdown",
   "metadata": {
    "collapsed": true
   },
   "source": [
    "### Submission"
   ]
  },
  {
   "cell_type": "markdown",
   "metadata": {},
   "source": [
    "Make sure to set the ratings above 5.0 to 5.0 and those below 1.0 to 1.0"
   ]
  },
  {
   "cell_type": "code",
   "execution_count": 172,
   "metadata": {},
   "outputs": [
    {
     "name": "stdout",
     "output_type": "stream",
     "text": [
      "Minimum prediction: 1.0, Maximum prediction: 5.0\n"
     ]
    }
   ],
   "source": [
    "predictions[ np.where( predictions > 5.0 ) ] = 5.0\n",
    "predictions[ np.where(predictions < 1.0)] = 1.0\n",
    "print(\"Minimum prediction: {}, Maximum prediction: {}\".format(np.min(predictions), np.max(predictions)))"
   ]
  },
  {
   "cell_type": "code",
   "execution_count": 173,
   "metadata": {
    "scrolled": true
   },
   "outputs": [
    {
     "name": "stdout",
     "output_type": "stream",
     "text": [
      "Shape of predictions (user x items): (1000, 10000)\n"
     ]
    }
   ],
   "source": [
    "print(\"Shape of predictions (user x items): {}\".format(np.shape(predictions)))\n",
    "wanted_preds = getWantedPredictions(predictions.T, sample_ids)\n",
    "create_csv_submission(sample_ids, wanted_preds, \"submissions/bias_training_gridsearch_not_warm.csv\")"
   ]
  },
  {
   "cell_type": "code",
   "execution_count": null,
   "metadata": {
    "collapsed": true
   },
   "outputs": [],
   "source": []
  }
 ],
 "metadata": {
  "anaconda-cloud": {},
  "kernelspec": {
   "display_name": "Python [conda root]",
   "language": "python",
   "name": "conda-root-py"
  },
  "language_info": {
   "codemirror_mode": {
    "name": "ipython",
    "version": 3
   },
   "file_extension": ".py",
   "mimetype": "text/x-python",
   "name": "python",
   "nbconvert_exporter": "python",
   "pygments_lexer": "ipython3",
   "version": "3.6.1"
  }
 },
 "nbformat": 4,
 "nbformat_minor": 1
}
