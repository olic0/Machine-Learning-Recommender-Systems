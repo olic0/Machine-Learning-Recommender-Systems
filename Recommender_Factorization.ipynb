{
 "cells": [
  {
   "cell_type": "code",
   "execution_count": 1,
   "metadata": {
    "collapsed": true
   },
   "outputs": [],
   "source": [
    "# Useful starting lines\n",
    "%matplotlib inline\n",
    "import numpy as np\n",
    "import scipy\n",
    "import scipy.io\n",
    "import scipy.sparse as sp\n",
    "import seaborn as sns\n",
    "import matplotlib.pyplot as plt\n",
    "%load_ext autoreload\n",
    "%autoreload 2"
   ]
  },
  {
   "cell_type": "markdown",
   "metadata": {},
   "source": [
    "## Load the Data\n",
    "Note that `ratings` is a sparse matrix that in the shape of (num_items, num_users)"
   ]
  },
  {
   "cell_type": "code",
   "execution_count": 2,
   "metadata": {},
   "outputs": [
    {
     "name": "stdout",
     "output_type": "stream",
     "text": [
      "number of items: 1000, number of users: 10000\n",
      "number of items: 1000, number of users: 10000\n",
      "(1000, 10000)\n"
     ]
    }
   ],
   "source": [
    "from pre_post_process import *\n",
    "\n",
    "_, ratings = load_data(\"data_train.csv\")\n",
    "sample_ids, _ = load_data(\"sample_submission.csv\")\n",
    "print(np.shape(ratings))"
   ]
  },
  {
   "cell_type": "markdown",
   "metadata": {},
   "source": [
    "### Plot the number of ratings per movie and user"
   ]
  },
  {
   "cell_type": "code",
   "execution_count": 3,
   "metadata": {
    "scrolled": true
   },
   "outputs": [
    {
     "data": {
      "image/png": "[encoded data removed]",
      "text/plain": [
       "<matplotlib.figure.Figure at 0x20bf9005ba8>"
      ]
     },
     "metadata": {},
     "output_type": "display_data"
    },
    {
     "name": "stdout",
     "output_type": "stream",
     "text": [
      "min # of items per user = 3, min # of users per item = 8.\n"
     ]
    }
   ],
   "source": [
    "from plots import plot_raw_data\n",
    "\n",
    "num_items_per_user, num_users_per_item = plot_raw_data(ratings)\n",
    "\n",
    "print(\"min # of items per user = {}, min # of users per item = {}.\".format(\n",
    "        min(num_items_per_user), min(num_users_per_item)))"
   ]
  },
  {
   "cell_type": "markdown",
   "metadata": {},
   "source": [
    "### Split the data into a train and test set"
   ]
  },
  {
   "cell_type": "code",
   "execution_count": 4,
   "metadata": {
    "scrolled": true
   },
   "outputs": [
    {
     "name": "stdout",
     "output_type": "stream",
     "text": [
      "the shape of original ratings. (# of row, # of col): (1000, 10000)\n",
      "the shape of valid ratings. (# of row, # of col): (1000, 10000)\n",
      "Total number of nonzero elements in origial data:1176952\n",
      "Total number of nonzero elements in train data:1068598\n",
      "Total number of nonzero elements in test data:108354\n"
     ]
    }
   ],
   "source": [
    "valid_ratings, train, test = split_data(ratings, p_test=0.1)"
   ]
  },
  {
   "cell_type": "markdown",
   "metadata": {},
   "source": [
    "### Finding parameters for SGD"
   ]
  },
  {
   "cell_type": "code",
   "execution_count": 5,
   "metadata": {
    "collapsed": true
   },
   "outputs": [],
   "source": [
    "from SGD_helpers import *"
   ]
  },
  {
   "cell_type": "markdown",
   "metadata": {},
   "source": [
    "We need to find the values of the step size $\\gamma$ first for a fixed value of the 3 other parameters and then compute a grid search to find the best parameters for the regularizers $\\lambda_{user}$, $\\lambda_{item}$ (both between 0 and 1) and the number of features $K$"
   ]
  },
  {
   "cell_type": "code",
   "execution_count": 159,
   "metadata": {},
   "outputs": [
    {
     "name": "stdout",
     "output_type": "stream",
     "text": [
      "Learn the matrix factorization using SGD with K = 50, lambda_i = 0.01, lambda_u = 0.01\n",
      "iter: 0, RMSE on training set: 1.0254163402880199.\n",
      "iter: 5, RMSE on training set: 0.9970562707025038.\n",
      "iter: 10, RMSE on training set: 0.9878420873516897.\n",
      "iter: 15, RMSE on training set: 0.9827800385900544.\n",
      "RMSE on test data: 0.9956946199719938.\n",
      "Learn the matrix factorization using SGD with K = 50, lambda_i = 0.01, lambda_u = 0.01\n",
      "iter: 0, RMSE on training set: 1.0476258793239321.\n",
      "iter: 5, RMSE on training set: 0.9589571948307791.\n",
      "iter: 10, RMSE on training set: 0.8527435785856862.\n",
      "iter: 15, RMSE on training set: 0.8095947135380929.\n",
      "RMSE on test data: 1.0043973015749026.\n",
      "Learn the matrix factorization using SGD with K = 50, lambda_i = 0.01, lambda_u = 0.01\n",
      "iter: 0, RMSE on training set: 1.0919266199950395.\n",
      "iter: 5, RMSE on training set: 0.7711472883038539.\n",
      "iter: 10, RMSE on training set: 0.6921353233596186.\n",
      "iter: 15, RMSE on training set: 0.6730727947086461.\n",
      "RMSE on test data: 1.1173694899753186.\n"
     ]
    }
   ],
   "source": [
    "# Finding gamma:\n",
    "gammas = np.logspace(-5,0,6) # errors on tests are [4.58, 1.43, 1.05, 1.02, nan, nan] Above 0.05 -> nan\n",
    "K = 50\n",
    "lambda_user = 0.01\n",
    "lambda_item = 0.01\n",
    "num_epochs = 20\n",
    "errors = []\n",
    "\n",
    "for gamma in gammas:\n",
    "    # Initialize features matrix\n",
    "    user_init, item_init = init_MF(train, K)\n",
    "    # Compute SGD\n",
    "    _, _, rmse = matrix_factorization_SGD(train, test, gamma, K, lambda_user, lambda_item, num_epochs, user_init, item_init)\n",
    "    errors.append(rmse)"
   ]
  },
  {
   "cell_type": "markdown",
   "metadata": {},
   "source": [
    "After many computations (not only on logspace) for same parameters for K and the 2 lambdas, we found that $\\gamma = 0.025$ is the best"
   ]
  },
  {
   "cell_type": "code",
   "execution_count": null,
   "metadata": {},
   "outputs": [
    {
     "name": "stdout",
     "output_type": "stream",
     "text": [
      "K = 20, lambda_u = 0.005, lambda_i = 0.05\n",
      "Learn the matrix factorization using SGD with K = 20, lambda_i = 0.05, lambda_u = 0.005\n",
      "iter: 0, RMSE on training set: 1.0319645103983506.\n",
      "iter: 5, RMSE on training set: 1.00386363668872.\n",
      "iter: 10, RMSE on training set: 0.9852919940605751.\n",
      "iter: 15, RMSE on training set: 0.9756309207073471.\n",
      "RMSE on test data: 0.9919069009109023.\n",
      "K = 20, lambda_u = 0.005, lambda_i = 0.1\n",
      "Learn the matrix factorization using SGD with K = 20, lambda_i = 0.1, lambda_u = 0.005\n",
      "iter: 0, RMSE on training set: 1.0155132474468431.\n",
      "iter: 5, RMSE on training set: 0.9580145579687189.\n",
      "iter: 10, RMSE on training set: 0.9282677738283455.\n",
      "iter: 15, RMSE on training set: 0.9178277238362167.\n",
      "RMSE on test data: 0.9855366773648361.\n",
      "K = 20, lambda_u = 0.005, lambda_i = 0.5\n",
      "Learn the matrix factorization using SGD with K = 20, lambda_i = 0.5, lambda_u = 0.005\n",
      "iter: 0, RMSE on training set: 1.0411236927654304.\n",
      "iter: 5, RMSE on training set: 0.9932798549544953.\n",
      "iter: 10, RMSE on training set: 0.9559289502257527.\n",
      "iter: 15, RMSE on training set: 0.943369742156618.\n",
      "RMSE on test data: 0.9902358717422781.\n",
      "K = 20, lambda_u = 0.01, lambda_i = 0.05\n",
      "Learn the matrix factorization using SGD with K = 20, lambda_i = 0.05, lambda_u = 0.01\n",
      "iter: 0, RMSE on training set: 1.0347572130248075.\n",
      "iter: 5, RMSE on training set: 0.9185363170899346.\n",
      "iter: 10, RMSE on training set: 0.8764839868882884.\n",
      "iter: 15, RMSE on training set: 0.8639836103991108.\n",
      "RMSE on test data: 1.0161567685436224.\n",
      "K = 20, lambda_u = 0.01, lambda_i = 0.1\n",
      "Learn the matrix factorization using SGD with K = 20, lambda_i = 0.1, lambda_u = 0.01\n",
      "iter: 0, RMSE on training set: 1.002164446269932.\n",
      "iter: 5, RMSE on training set: 0.9106104521342812.\n",
      "iter: 10, RMSE on training set: 0.8725916152355692.\n"
     ]
    }
   ],
   "source": [
    "# Grid Search:\n",
    "grid = np.zeros((4, 4, 4))\n",
    "gamma = 0.025 # best gamma we found above\n",
    "num_epochs = 20\n",
    "lambdas_user = [0.01, 0.05]#np.logspace(-3,0,4)[::-1] #From max to min\n",
    "lambdas_item = [0.05, 0.1, 0.5]\n",
    "num_features = np.linspace(20,100,4)\n",
    "min_loss = 100000\n",
    "\n",
    "for x,K in enumerate(num_features):\n",
    "    ### Warm start: directly start computation from previously computed item_features and user_features and not random initialization \n",
    "    user_init, item_init = init_MF(train, int(K))\n",
    "    for y,lambda_u in enumerate(lambdas_user):\n",
    "        for z,lambda_i in enumerate(lambdas_item):\n",
    "            print(\"K = {}, lambda_u = {}, lambda_i = {}\".format(int(K), lambda_u, lambda_i))\n",
    "            item_feats, user_feats, rmse = matrix_factorization_SGD(train, test, gamma, int(K), lambda_u, lambda_i, num_epochs,\n",
    "                                                                    user_init, item_init)\n",
    "            ### For warm start, we keep the user_features and item_features that gave us the minimal rmse previously computed\n",
    "            if rmse < min_loss:\n",
    "                min_loss = rmse\n",
    "                user_init = user_feats\n",
    "                item_init = item_feats\n",
    "            grid[x, y, z] = rmse"
   ]
  },
  {
   "cell_type": "code",
   "execution_count": 20,
   "metadata": {},
   "outputs": [
    {
     "ename": "SyntaxError",
     "evalue": "invalid syntax (<ipython-input-20-83ef03b58d55>, line 2)",
     "output_type": "error",
     "traceback": [
      "\u001b[1;36m  File \u001b[1;32m\"<ipython-input-20-83ef03b58d55>\"\u001b[1;36m, line \u001b[1;32m2\u001b[0m\n\u001b[1;33m    t = np.matrix([[1.416,, 4],[1, 4,9, 16],[1, 8, 27, 64],[1, 16, 81, 100]])\u001b[0m\n\u001b[1;37m                          ^\u001b[0m\n\u001b[1;31mSyntaxError\u001b[0m\u001b[1;31m:\u001b[0m invalid syntax\n"
     ]
    }
   ],
   "source": [
    "'''TEST'''\n",
    "t = np.matrix([[1.416,, 4],[1, 4,9, 16],[1, 8, 27, 64],[1, 16, 81, 100]])\n",
    "ax = plt.axes()\n",
    "cmap = sns.color_palette(\"Blues\")\n",
    "sns.heatmap(t, ax = ax, cmap = cmap, square = True)\n",
    "lambdas_test1 = [0.001, 0.01, 0.1, 1.0]\n",
    "lambdas_test2 = [0.001, 0.01, 0.1, 1.0]\n",
    "ax.set_xticklabels(lambdas_test1)\n",
    "ax.set_yticklabels(lambdas_test2)\n",
    "ax.set_xlabel(\"Lambda user\")\n",
    "ax.set_ylabel(\"Lambda item\")\n",
    "plt.title(\"Grid Search for minimal RMSE depending on regularizers lambda user and lambda item\")"
   ]
  },
  {
   "cell_type": "code",
   "execution_count": null,
   "metadata": {
    "collapsed": true
   },
   "outputs": [],
   "source": [
    "grid = np.matrix([[1.1,1.1,1.0836,0.9951],[1.0719, 1.0446, 0.9902, 1.0103],[1.009, 0.9855, 1.0043, 1.050],[1.007, 1.007, 1.048, 1.416]])\n",
    "ax = plt.axes()\n",
    "cmap = sns.palplot(sns.light_palette(\"red\", reverse=True))\n",
    "sns.heatmap(t, ax = ax, cmap = cmap, square = True)\n",
    "lambdas_test1 = [0.001, 0.01, 0.1, 1.0]\n",
    "lambdas_test2 = [0.001, 0.01, 0.1, 1.0]\n",
    "ax.set_xticklabels(lambdas_test1)\n",
    "ax.set_yticklabels(lambdas_test2)\n",
    "ax.set_xlabel(\"Lambda user\")\n",
    "ax.set_ylabel(\"Lambda item\")\n",
    "plt.title(\"Grid Search for minimal RMSE depending on regularizers lambda user and lambda item\")"
   ]
  },
  {
   "cell_type": "markdown",
   "metadata": {},
   "source": [
    "Run the SGD with the best parameters we found:"
   ]
  },
  {
   "cell_type": "code",
   "execution_count": 8,
   "metadata": {
    "scrolled": true
   },
   "outputs": [
    {
     "name": "stdout",
     "output_type": "stream",
     "text": [
      "Learn the matrix factorization using SGD with K = 20, lambda_i = 0.01, lambda_u = 0.1\n",
      "iter: 0, RMSE on training set: 1.049493431379777.\n",
      "iter: 5, RMSE on training set: 0.9917019620172697.\n",
      "iter: 10, RMSE on training set: 0.9462150810318175.\n",
      "iter: 15, RMSE on training set: 0.9264185722848745.\n",
      "Learn the matrix factorization using SGD with K = 20, lambda_i = 0.01, lambda_u = 0.1\n",
      "iter: 0, RMSE on training set: 1.0494871119227165.\n",
      "iter: 5, RMSE on training set: 0.9906779012935527.\n",
      "iter: 10, RMSE on training set: 0.9444948358625014.\n",
      "iter: 15, RMSE on training set: 0.924736391461175.\n",
      "iter: 20, RMSE on training set: 0.9177705836387646.\n",
      "iter: 25, RMSE on training set: 0.9152491052507084.\n",
      "iter: 30, RMSE on training set: 0.9142824072136536.\n",
      "iter: 35, RMSE on training set: 0.9139015618343987.\n",
      "iter: 40, RMSE on training set: 0.9137478691018356.\n",
      "iter: 45, RMSE on training set: 0.9136861943271423.\n",
      "iter: 50, RMSE on training set: 0.9136614109781991.\n",
      "iter: 55, RMSE on training set: 0.9136514502341064.\n",
      "iter: 60, RMSE on training set: 0.9136474475381103.\n",
      "iter: 65, RMSE on training set: 0.913645839048148.\n",
      "iter: 70, RMSE on training set: 0.9136451926342387.\n",
      "iter: 75, RMSE on training set: 0.9136449328553333.\n",
      "iter: 80, RMSE on training set: 0.9136448284560585.\n",
      "iter: 85, RMSE on training set: 0.9136447865003106.\n",
      "iter: 90, RMSE on training set: 0.9136447696392799.\n",
      "iter: 95, RMSE on training set: 0.9136447628631513.\n"
     ]
    }
   ],
   "source": [
    "best_gamma = 0.025\n",
    "best_lambda_u = 0.1\n",
    "best_lambda_i = 0.01\n",
    "K = 20\n",
    "num_epochs = 20\n",
    "\n",
    "user_init, item_init = init_MF(train, K)\n",
    "\n",
    "item_feats_SGD, user_feats_SGD, rmse = matrix_factorization_SGD(ratings, test, best_gamma, K, best_lambda_u, best_lambda_i, num_epochs,\n",
    "                                                                    user_init, item_init, include_test = False)\n",
    "user_init, item_init = init_MF(train, K)\n",
    "item_feats2_SGD, user_feats2_SGD, rmse = matrix_factorization_SGD(ratings, test, best_gamma, K, best_lambda_u, best_lambda_i, 100,\n",
    "                                                                    user_init, item_init, include_test = False)"
   ]
  },
  {
   "cell_type": "code",
   "execution_count": 11,
   "metadata": {},
   "outputs": [
    {
     "name": "stdout",
     "output_type": "stream",
     "text": [
      "Shape of predictions (user x items): (1000, 10000)\n"
     ]
    }
   ],
   "source": [
    "predictions = np.dot(item_feats2_SGD.T, user_feats2_SGD)\n",
    "print(\"Shape of predictions (user x items): {}\".format(np.shape(predictions)))"
   ]
  },
  {
   "cell_type": "markdown",
   "metadata": {},
   "source": [
    "### Adding biases"
   ]
  },
  {
   "cell_type": "code",
   "execution_count": 6,
   "metadata": {
    "collapsed": true
   },
   "outputs": [],
   "source": [
    "from bias_helpers import *"
   ]
  },
  {
   "cell_type": "markdown",
   "metadata": {},
   "source": [
    "Instead of having $p_{u, i} = \\mathbf{w}_i\\mathbf{z^{T}}_u$ we would add bias on the user and item by having the following:\n",
    "$$p_{u, i} = \\mu + b_{u} + b_{i} + \\mathbf{w}_i\\mathbf{z^{T}}_u$$\n",
    "\n",
    "where $\\mu$ is the average of all ratings, $b_{u}$ and $b_{i}$ are the observed deviations of user u and item i respectively from the average (the biases).\n",
    "\n",
    "Thus we now want to find the best $\\mathbf{W}$ and $\\mathbf{U}$ that minimizes the loss:\n",
    "\n",
    "$$min_{W,Z}\\ \\frac{1}{2} \\sum_{(u, i) \\in \\omega} (r_{u,i} - \\mu - b_{u} - b_{i} - \\mathbf{W_{u}} \\mathbf{Z^{T}_{i}}) + \\lambda_{item} (||W||_{F}^{2} + b_{i}^{2}) + \\lambda_{user} (||Z||_{F}^{2} + b_{u}^{2}) $$\n",
    "\n",
    "And we need to compute the gradient of this loss. It is the same as before except we can convert our rating matrix to a biased rating matrix with ratings $r'_{u, i} = r_{u, i} - \\mu - b_{u} - b_{i}$ and compute our SGD on this biased matrix"
   ]
  },
  {
   "cell_type": "code",
   "execution_count": 13,
   "metadata": {},
   "outputs": [
    {
     "name": "stderr",
     "output_type": "stream",
     "text": [
      "C:\\Users\\olivi\\Documents\\semestre7\\MachineLearning\\ML_course\\projects\\project2\\project_recommender_system\\bias_helpers.py:24: RuntimeWarning: invalid value encountered in true_divide\n",
      "  mean_users = [mean_users[0, i] for i in range(num_users)]/nz_users\n",
      "C:\\Users\\olivi\\Documents\\semestre7\\MachineLearning\\ML_course\\projects\\project2\\project_recommender_system\\bias_helpers.py:26: RuntimeWarning: invalid value encountered in true_divide\n",
      "  mean_items = [mean_items[i, 0] for i in range(num_items)]/nz_items\n"
     ]
    }
   ],
   "source": [
    "bias_train, mean, bias_u_train, bias_i_train = computeBiasMatrix(train) #ratings for final submissions\n",
    "bias_test, _, _, _ = computeBiasMatrix(test)"
   ]
  },
  {
   "cell_type": "code",
   "execution_count": 19,
   "metadata": {},
   "outputs": [
    {
     "name": "stdout",
     "output_type": "stream",
     "text": [
      "K = 20, lambda_u = 1.0, lambda_i = 1.0\n",
      "Learn the matrix factorization using SGD with K = 20, lambda_i = 1.0, lambda_u = 1.0\n",
      "iter: 0, RMSE on training set: 0.9950116460840475.\n",
      "iter: 5, RMSE on training set: 0.9950141371196208.\n",
      "iter: 10, RMSE on training set: 0.9950141496724862.\n",
      "iter: 15, RMSE on training set: 0.9950141514276349.\n",
      "RMSE on test data: 0.9584170940125771.\n",
      "Entered\n",
      "K = 20, lambda_u = 1.0, lambda_i = 0.1\n",
      "Learn the matrix factorization using SGD with K = 20, lambda_i = 0.1, lambda_u = 1.0\n",
      "iter: 0, RMSE on training set: 0.9950141420014696.\n",
      "iter: 5, RMSE on training set: 0.9950141520396367.\n",
      "iter: 10, RMSE on training set: 0.9950141530242792.\n",
      "iter: 15, RMSE on training set: 0.995014153266552.\n",
      "RMSE on test data: 0.9584170952714977.\n",
      "K = 20, lambda_u = 1.0, lambda_i = 0.01\n",
      "Learn the matrix factorization using SGD with K = 20, lambda_i = 0.01, lambda_u = 1.0\n",
      "iter: 0, RMSE on training set: 0.9950141512207128.\n",
      "iter: 5, RMSE on training set: 0.9950141258529559.\n",
      "iter: 10, RMSE on training set: 0.9950140651542321.\n",
      "iter: 15, RMSE on training set: 0.995014005162889.\n",
      "RMSE on test data: 0.9584169749498483.\n",
      "Entered\n",
      "K = 20, lambda_u = 1.0, lambda_i = 0.001\n",
      "Learn the matrix factorization using SGD with K = 20, lambda_i = 0.001, lambda_u = 1.0\n",
      "iter: 0, RMSE on training set: 0.9950133195261307.\n",
      "iter: 5, RMSE on training set: 0.9948976959115556.\n",
      "iter: 10, RMSE on training set: 0.9940888464964817.\n",
      "iter: 15, RMSE on training set: 0.9929839885146264.\n",
      "RMSE on test data: 0.9565989281695966.\n",
      "Entered\n",
      "K = 20, lambda_u = 0.1, lambda_i = 1.0\n",
      "Learn the matrix factorization using SGD with K = 20, lambda_i = 1.0, lambda_u = 0.1\n",
      "iter: 0, RMSE on training set: 0.9949680922788974.\n",
      "iter: 5, RMSE on training set: 0.994993637977154.\n",
      "iter: 10, RMSE on training set: 0.9949995426562931.\n",
      "iter: 15, RMSE on training set: 0.9950015132821844.\n",
      "RMSE on test data: 0.9584092112048314.\n",
      "K = 20, lambda_u = 0.1, lambda_i = 0.1\n",
      "Learn the matrix factorization using SGD with K = 20, lambda_i = 0.1, lambda_u = 0.1\n",
      "iter: 0, RMSE on training set: 0.9948250988024787.\n",
      "iter: 5, RMSE on training set: 0.9927056263748828.\n",
      "iter: 10, RMSE on training set: 0.9903822534585195.\n",
      "iter: 15, RMSE on training set: 0.9893716827917866.\n",
      "RMSE on test data: 0.9542685495751663.\n",
      "Entered\n",
      "K = 20, lambda_u = 0.1, lambda_i = 0.01\n",
      "Learn the matrix factorization using SGD with K = 20, lambda_i = 0.01, lambda_u = 0.1\n",
      "iter: 0, RMSE on training set: 0.9812590338416409.\n",
      "iter: 5, RMSE on training set: 0.9693179568486112.\n",
      "iter: 10, RMSE on training set: 0.9660966012174257.\n",
      "iter: 15, RMSE on training set: 0.9648296704733811.\n",
      "RMSE on test data: 0.9455059375553836.\n",
      "Entered\n",
      "K = 20, lambda_u = 0.1, lambda_i = 0.001\n",
      "Learn the matrix factorization using SGD with K = 20, lambda_i = 0.001, lambda_u = 0.1\n",
      "iter: 0, RMSE on training set: 0.957897285749819.\n",
      "iter: 5, RMSE on training set: 0.9091981740989575.\n",
      "iter: 10, RMSE on training set: 0.8837000873739708.\n",
      "iter: 15, RMSE on training set: 0.8732654745835557.\n",
      "RMSE on test data: 0.9681576425317112.\n",
      "K = 20, lambda_u = 0.01, lambda_i = 1.0\n",
      "Learn the matrix factorization using SGD with K = 20, lambda_i = 1.0, lambda_u = 0.01\n",
      "iter: 0, RMSE on training set: 0.9882875207364366.\n",
      "iter: 5, RMSE on training set: 0.9847829518064954.\n",
      "iter: 10, RMSE on training set: 0.9836757360521378.\n",
      "iter: 15, RMSE on training set: 0.9833116582198246.\n",
      "RMSE on test data: 0.9532912553089247.\n",
      "K = 20, lambda_u = 0.01, lambda_i = 0.1\n",
      "Learn the matrix factorization using SGD with K = 20, lambda_i = 0.1, lambda_u = 0.01\n",
      "iter: 0, RMSE on training set: 0.9244031512459823.\n",
      "iter: 5, RMSE on training set: 0.8898694362997531.\n",
      "iter: 10, RMSE on training set: 0.8806801916409861.\n",
      "iter: 15, RMSE on training set: 0.8778351950937274.\n",
      "RMSE on test data: 0.9483331827082913.\n",
      "K = 20, lambda_u = 0.01, lambda_i = 0.01\n",
      "Learn the matrix factorization using SGD with K = 20, lambda_i = 0.01, lambda_u = 0.01\n",
      "iter: 0, RMSE on training set: 0.8519840326423436.\n",
      "iter: 5, RMSE on training set: 0.8322923035465783.\n",
      "iter: 10, RMSE on training set: 0.8274764814153364.\n",
      "iter: 15, RMSE on training set: 0.8260988240564066.\n",
      "RMSE on test data: 1.0109419764439198.\n",
      "K = 20, lambda_u = 0.01, lambda_i = 0.001\n",
      "Learn the matrix factorization using SGD with K = 20, lambda_i = 0.001, lambda_u = 0.01\n",
      "iter: 0, RMSE on training set: 0.8317292982008271.\n",
      "iter: 5, RMSE on training set: 0.8195943140974112.\n",
      "iter: 10, RMSE on training set: 0.8166055684124714.\n",
      "iter: 15, RMSE on training set: 0.8158170370029025.\n",
      "RMSE on test data: 1.0423736827911525.\n",
      "K = 20, lambda_u = 0.001, lambda_i = 1.0\n",
      "Learn the matrix factorization using SGD with K = 20, lambda_i = 1.0, lambda_u = 0.001\n",
      "iter: 0, RMSE on training set: 0.9587480518349353.\n",
      "iter: 5, RMSE on training set: 0.9435593422129767.\n",
      "iter: 10, RMSE on training set: 0.938499539282763.\n",
      "iter: 15, RMSE on training set: 0.9367760957181325.\n",
      "RMSE on test data: 0.9432754014640384.\n",
      "Entered\n",
      "K = 20, lambda_u = 0.001, lambda_i = 0.1\n",
      "Learn the matrix factorization using SGD with K = 20, lambda_i = 0.1, lambda_u = 0.001\n",
      "iter: 0, RMSE on training set: 0.8630054952523196.\n",
      "iter: 5, RMSE on training set: 0.8445146230500347.\n",
      "iter: 10, RMSE on training set: 0.8365844285949335.\n",
      "iter: 15, RMSE on training set: 0.8345578783121249.\n",
      "RMSE on test data: 0.989899321704543.\n",
      "K = 20, lambda_u = 0.001, lambda_i = 0.01\n",
      "Learn the matrix factorization using SGD with K = 20, lambda_i = 0.01, lambda_u = 0.001\n",
      "iter: 0, RMSE on training set: 0.8746704288655027.\n"
     ]
    },
    {
     "name": "stderr",
     "output_type": "stream",
     "text": [
      "C:\\Users\\olivi\\Documents\\semestre7\\MachineLearning\\ML_course\\projects\\project2\\project_recommender_system\\SGD_helpers.py:53: RuntimeWarning: overflow encountered in multiply\n",
      "  user_features[:, n] += gamma * (err * item_info - lambda_user * user_info)\n",
      "C:\\Users\\olivi\\Documents\\semestre7\\MachineLearning\\ML_course\\projects\\project2\\project_recommender_system\\SGD_helpers.py:52: RuntimeWarning: overflow encountered in multiply\n",
      "  item_features[:, d] += gamma * (err * user_info - lambda_item * item_info)\n",
      "C:\\Users\\olivi\\Documents\\semestre7\\MachineLearning\\ML_course\\projects\\project2\\project_recommender_system\\SGD_helpers.py:53: RuntimeWarning: invalid value encountered in subtract\n",
      "  user_features[:, n] += gamma * (err * item_info - lambda_user * user_info)\n",
      "C:\\Users\\olivi\\Documents\\semestre7\\MachineLearning\\ML_course\\projects\\project2\\project_recommender_system\\SGD_helpers.py:52: RuntimeWarning: invalid value encountered in add\n",
      "  item_features[:, d] += gamma * (err * user_info - lambda_item * item_info)\n"
     ]
    },
    {
     "name": "stdout",
     "output_type": "stream",
     "text": [
      "iter: 5, RMSE on training set: nan.\n",
      "iter: 10, RMSE on training set: nan.\n",
      "iter: 15, RMSE on training set: nan.\n",
      "RMSE on test data: nan.\n",
      "K = 20, lambda_u = 0.001, lambda_i = 0.001\n",
      "Learn the matrix factorization using SGD with K = 20, lambda_i = 0.001, lambda_u = 0.001\n",
      "iter: 0, RMSE on training set: nan.\n",
      "iter: 5, RMSE on training set: nan.\n",
      "iter: 10, RMSE on training set: nan.\n",
      "iter: 15, RMSE on training set: nan.\n",
      "RMSE on test data: nan.\n"
     ]
    }
   ],
   "source": [
    "# Grid Search:\n",
    "grid = np.zeros((4, 4)) ### np.zeros((4, 4, 4))\n",
    "gamma = 0.025 # best gamma we found above\n",
    "num_epochs = 20\n",
    "lambdas_user = np.logspace(-3,0,4)[::-1] #From max to min\n",
    "lambdas_item = np.logspace(-3,0,4)[::-1]\n",
    "#num_features = np.linspace(20,100,4)\n",
    "K = 20\n",
    "min_loss = 100000\n",
    "\n",
    "### Warm start: directly start computation from previously computed item_features and user_features and not random initialization \n",
    "user_init, item_init = init_MF(train, K)\n",
    "for x,lambda_u in enumerate(lambdas_user):\n",
    "    for y,lambda_i in enumerate(lambdas_item):\n",
    "        print(\"K = {}, lambda_u = {}, lambda_i = {}\".format(int(K), lambda_u, lambda_i))\n",
    "        item_feats, user_feats, rmse = matrix_factorization_SGD(bias_train, bias_test, gamma, K, lambda_u,\n",
    "                                                                lambda_i, num_epochs, user_init, item_init)\n",
    "        ### For warm start, we keep the user_features and item_features that gave us the minimal rmse previously computed\n",
    "        if rmse < min_loss:\n",
    "            print(\"Entered\")\n",
    "            min_loss = rmse\n",
    "            user_init = user_feats\n",
    "            item_init = item_feats\n",
    "        grid[x, y] = rmse"
   ]
  },
  {
   "cell_type": "code",
   "execution_count": null,
   "metadata": {
    "collapsed": true
   },
   "outputs": [],
   "source": [
    "print(min_loss)"
   ]
  },
  {
   "cell_type": "code",
   "execution_count": 18,
   "metadata": {},
   "outputs": [
    {
     "name": "stdout",
     "output_type": "stream",
     "text": [
      "Learn the matrix factorization using SGD with K = 20, lambda_i = 1.0, lambda_u = 0.001\n",
      "iter: 0, RMSE on training set: 0.9950023491148128.\n",
      "iter: 5, RMSE on training set: 0.9949891307219013.\n",
      "iter: 10, RMSE on training set: 0.9949801034480176.\n",
      "iter: 15, RMSE on training set: 0.9949762003882027.\n"
     ]
    }
   ],
   "source": [
    "# define parameters\n",
    "gamma = 0.025\n",
    "K = 20\n",
    "lambda_user = 0.001\n",
    "lambda_item = 1.0\n",
    "num_epochs = 20\n",
    "user_init, item_init = init_MF(bias_train, K)\n",
    "\n",
    "item_featuresSGD, user_featuresSGD, rmse = matrix_factorization_SGD(bias_train, bias_test, gamma, K, lambda_user,\n",
    "                                                              lambda_item, num_epochs, user_init, item_init, include_test = False)\n"
   ]
  },
  {
   "cell_type": "code",
   "execution_count": 15,
   "metadata": {},
   "outputs": [
    {
     "name": "stdout",
     "output_type": "stream",
     "text": [
      "(1000, 10000)\n",
      "Shape of predictions (user x items): (1000, 10000)\n"
     ]
    }
   ],
   "source": [
    "# Compute predictions matrix from the biases, item and user features computed with SGD\n",
    "predictions = predictionsWithBias(item_featuresSGD, user_featuresSGD, bias_u_train, bias_i_train, mean)\n",
    "print(\"Shape of predictions (user x items): {}\".format(np.shape(predictions)))"
   ]
  },
  {
   "cell_type": "code",
   "execution_count": 16,
   "metadata": {},
   "outputs": [
    {
     "name": "stdout",
     "output_type": "stream",
     "text": [
      "1 37\n",
      "3.3532282857\n"
     ]
    }
   ],
   "source": [
    "### Checking if results appear the same in the final excel file\n",
    "first_user, first_item = sample_ids[0][0],sample_ids[0][1]\n",
    "print(first_item, first_user)\n",
    "print(predictions[0, 36])"
   ]
  },
  {
   "cell_type": "markdown",
   "metadata": {
    "collapsed": true
   },
   "source": [
    "### Submission"
   ]
  },
  {
   "cell_type": "code",
   "execution_count": 17,
   "metadata": {
    "scrolled": true
   },
   "outputs": [
    {
     "name": "stdout",
     "output_type": "stream",
     "text": [
      "Shape of predictions (user x items): (1000, 10000)\n"
     ]
    }
   ],
   "source": [
    "print(\"Shape of predictions (user x items): {}\".format(np.shape(predictions)))\n",
    "wanted_preds = getWantedPredictions(predictions.T, sample_ids)\n",
    "create_csv_submission(sample_ids, wanted_preds, \"submissions/SGD_bias_train.csv\")"
   ]
  },
  {
   "cell_type": "code",
   "execution_count": null,
   "metadata": {
    "collapsed": true
   },
   "outputs": [],
   "source": []
  }
 ],
 "metadata": {
  "anaconda-cloud": {},
  "kernelspec": {
   "display_name": "Python [conda root]",
   "language": "python",
   "name": "conda-root-py"
  },
  "language_info": {
   "codemirror_mode": {
    "name": "ipython",
    "version": 3
   },
   "file_extension": ".py",
   "mimetype": "text/x-python",
   "name": "python",
   "nbconvert_exporter": "python",
   "pygments_lexer": "ipython3",
   "version": "3.6.1"
  }
 },
 "nbformat": 4,
 "nbformat_minor": 1
}
