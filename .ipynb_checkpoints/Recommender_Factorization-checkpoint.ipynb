{
 "cells": [
  {
   "cell_type": "code",
   "execution_count": 1,
   "metadata": {
    "collapsed": true
   },
   "outputs": [],
   "source": [
    "# Useful starting lines\n",
    "%matplotlib inline\n",
    "import numpy as np\n",
    "import scipy\n",
    "import scipy.io\n",
    "import scipy.sparse as sp\n",
    "import seaborn as sns\n",
    "import matplotlib.pyplot as plt\n",
    "%load_ext autoreload\n",
    "%autoreload 2"
   ]
  },
  {
   "cell_type": "markdown",
   "metadata": {},
   "source": [
    "## Load the Data\n",
    "Note that `ratings` is a sparse matrix that in the shape of (num_items, num_users)"
   ]
  },
  {
   "cell_type": "code",
   "execution_count": 2,
   "metadata": {},
   "outputs": [
    {
     "name": "stdout",
     "output_type": "stream",
     "text": [
      "number of items: 1000, number of users: 10000\n",
      "number of items: 1000, number of users: 10000\n",
      "(1000, 10000)\n"
     ]
    }
   ],
   "source": [
    "from pre_post_process import * #load_data, preprocess_data\n",
    "\n",
    "_, ratings = load_data(\"data_train.csv\")\n",
    "sample_ids, _ = load_data(\"sample_submission.csv\")\n",
    "print(np.shape(ratings))"
   ]
  },
  {
   "cell_type": "markdown",
   "metadata": {},
   "source": [
    "### Plot the number of ratings per movie and user"
   ]
  },
  {
   "cell_type": "code",
   "execution_count": 6,
   "metadata": {
    "scrolled": true
   },
   "outputs": [
    {
     "data": {
      "image/png": "[encoded data removed]",
      "text/plain": [
       "<matplotlib.figure.Figure at 0x217e5ca8898>"
      ]
     },
     "metadata": {},
     "output_type": "display_data"
    },
    {
     "name": "stdout",
     "output_type": "stream",
     "text": [
      "min # of items per user = 3, min # of users per item = 8.\n"
     ]
    }
   ],
   "source": [
    "from plots import plot_raw_data\n",
    "\n",
    "num_items_per_user, num_users_per_item = plot_raw_data(ratings)\n",
    "\n",
    "print(\"min # of items per user = {}, min # of users per item = {}.\".format(\n",
    "        min(num_items_per_user), min(num_users_per_item)))"
   ]
  },
  {
   "cell_type": "markdown",
   "metadata": {},
   "source": [
    "### Split the data into a train and test set"
   ]
  },
  {
   "cell_type": "code",
   "execution_count": 11,
   "metadata": {
    "collapsed": true
   },
   "outputs": [],
   "source": [
    "def split_data(ratings, p_test=0.1):\n",
    "    \"\"\"Split the ratings to training data and test data with the given proportion in p_test\"\"\"\n",
    "    # set seed\n",
    "    np.random.seed(988)\n",
    "    \n",
    "    valid_ratings = ratings\n",
    "    \n",
    "    # init\n",
    "    num_rows, num_cols = valid_ratings.shape\n",
    "    train = sp.lil_matrix((num_rows, num_cols))\n",
    "    test = sp.lil_matrix((num_rows, num_cols))\n",
    "    \n",
    "    print(\"the shape of original ratings. (# of row, # of col): {}\".format(\n",
    "        ratings.shape))\n",
    "    print(\"the shape of valid ratings. (# of row, # of col): {}\".format(\n",
    "        (num_rows, num_cols)))\n",
    "\n",
    "    nz_items, nz_users = valid_ratings.nonzero()\n",
    "    \n",
    "    # split the data\n",
    "    for user in set(nz_users):\n",
    "        # randomly select a subset of ratings\n",
    "        row, col = valid_ratings[:, user].nonzero()\n",
    "        selects = np.random.choice(row, size=int(len(row) * p_test))\n",
    "        residual = list(set(row) - set(selects))\n",
    "\n",
    "        # add to train set\n",
    "        train[residual, user] = valid_ratings[residual, user]\n",
    "\n",
    "        # add to test set\n",
    "        test[selects, user] = valid_ratings[selects, user]\n",
    "\n",
    "    print(\"Total number of nonzero elements in origial data:{v}\".format(v=ratings.nnz))\n",
    "    print(\"Total number of nonzero elements in train data:{v}\".format(v=train.nnz))\n",
    "    print(\"Total number of nonzero elements in test data:{v}\".format(v=test.nnz))\n",
    "    return valid_ratings, train, test"
   ]
  },
  {
   "cell_type": "code",
   "execution_count": 12,
   "metadata": {
    "scrolled": true
   },
   "outputs": [
    {
     "ename": "ValueError",
     "evalue": "not enough values to unpack (expected 2, got 0)",
     "output_type": "error",
     "traceback": [
      "\u001b[1;31m---------------------------------------------------------------------------\u001b[0m",
      "\u001b[1;31mValueError\u001b[0m                                Traceback (most recent call last)",
      "\u001b[1;32m<ipython-input-12-2e2ddb673fc5>\u001b[0m in \u001b[0;36m<module>\u001b[1;34m()\u001b[0m\n\u001b[0;32m      1\u001b[0m \u001b[1;31m#from pre_post_process import split_data\u001b[0m\u001b[1;33m\u001b[0m\u001b[1;33m\u001b[0m\u001b[0m\n\u001b[1;32m----> 2\u001b[1;33m \u001b[0mvalid_ratings\u001b[0m\u001b[1;33m,\u001b[0m \u001b[0mtrain\u001b[0m\u001b[1;33m,\u001b[0m \u001b[0mtest\u001b[0m \u001b[1;33m=\u001b[0m \u001b[0msplit_data\u001b[0m\u001b[1;33m(\u001b[0m\u001b[0mratings\u001b[0m\u001b[1;33m,\u001b[0m \u001b[0mp_test\u001b[0m\u001b[1;33m=\u001b[0m\u001b[1;36m0.1\u001b[0m\u001b[1;33m)\u001b[0m\u001b[1;33m\u001b[0m\u001b[0m\n\u001b[0m",
      "\u001b[1;32m<ipython-input-11-50a24061c258>\u001b[0m in \u001b[0;36msplit_data\u001b[1;34m(ratings, p_test)\u001b[0m\n\u001b[0;32m      7\u001b[0m \u001b[1;33m\u001b[0m\u001b[0m\n\u001b[0;32m      8\u001b[0m     \u001b[1;31m# init\u001b[0m\u001b[1;33m\u001b[0m\u001b[1;33m\u001b[0m\u001b[0m\n\u001b[1;32m----> 9\u001b[1;33m     \u001b[0mnum_rows\u001b[0m\u001b[1;33m,\u001b[0m \u001b[0mnum_cols\u001b[0m \u001b[1;33m=\u001b[0m \u001b[0mvalid_ratings\u001b[0m\u001b[1;33m.\u001b[0m\u001b[0mshape\u001b[0m\u001b[1;33m\u001b[0m\u001b[0m\n\u001b[0m\u001b[0;32m     10\u001b[0m     \u001b[0mtrain\u001b[0m \u001b[1;33m=\u001b[0m \u001b[0msp\u001b[0m\u001b[1;33m.\u001b[0m\u001b[0mlil_matrix\u001b[0m\u001b[1;33m(\u001b[0m\u001b[1;33m(\u001b[0m\u001b[0mnum_rows\u001b[0m\u001b[1;33m,\u001b[0m \u001b[0mnum_cols\u001b[0m\u001b[1;33m)\u001b[0m\u001b[1;33m)\u001b[0m\u001b[1;33m\u001b[0m\u001b[0m\n\u001b[0;32m     11\u001b[0m     \u001b[0mtest\u001b[0m \u001b[1;33m=\u001b[0m \u001b[0msp\u001b[0m\u001b[1;33m.\u001b[0m\u001b[0mlil_matrix\u001b[0m\u001b[1;33m(\u001b[0m\u001b[1;33m(\u001b[0m\u001b[0mnum_rows\u001b[0m\u001b[1;33m,\u001b[0m \u001b[0mnum_cols\u001b[0m\u001b[1;33m)\u001b[0m\u001b[1;33m)\u001b[0m\u001b[1;33m\u001b[0m\u001b[0m\n",
      "\u001b[1;31mValueError\u001b[0m: not enough values to unpack (expected 2, got 0)"
     ]
    }
   ],
   "source": [
    "#from pre_post_process import split_data\n",
    "valid_ratings, train, test = split_data(ratings, p_test=0.1)"
   ]
  },
  {
   "cell_type": "markdown",
   "metadata": {},
   "source": [
    "### Learn the Matrix Factorization using SGD"
   ]
  },
  {
   "cell_type": "markdown",
   "metadata": {},
   "source": [
    "#### Initialize matrix factorization"
   ]
  },
  {
   "cell_type": "code",
   "execution_count": 6,
   "metadata": {
    "collapsed": true
   },
   "outputs": [],
   "source": [
    "def init_MF(train, num_features):\n",
    "    \"\"\"init the parameter for matrix factorization.\"\"\"\n",
    "        \n",
    "    num_item, num_user = train.get_shape()\n",
    "\n",
    "    user_features = np.random.rand(num_features, num_user)/num_features\n",
    "    item_features = np.random.rand(num_features, num_item)/num_features\n",
    "\n",
    "    # start by item features.\n",
    "    item_nnz = train.getnnz(axis=1)\n",
    "    item_sum = train.sum(axis=1)\n",
    "\n",
    "    #for ind in range(num_item):\n",
    "        #item_features[0, ind] = item_sum[ind, 0] / item_nnz[ind]\n",
    "    return user_features, item_features"
   ]
  },
  {
   "cell_type": "markdown",
   "metadata": {},
   "source": [
    "Compute the cost by the method of matrix factorization.\n"
   ]
  },
  {
   "cell_type": "code",
   "execution_count": 8,
   "metadata": {
    "collapsed": true
   },
   "outputs": [],
   "source": [
    "def compute_error(data, user_features, item_features, nz):\n",
    "    \"\"\"compute the loss (MSE) of the prediction of nonzero elements.\"\"\"\n",
    "    mse = 0\n",
    "    for row, col in nz:\n",
    "        item_info = item_features[:, row]\n",
    "        user_info = user_features[:, col]\n",
    "        mse += (data[row, col] - user_info.T.dot(item_info)) ** 2\n",
    "    return np.sqrt(1.0 * mse / len(nz))"
   ]
  },
  {
   "cell_type": "code",
   "execution_count": 9,
   "metadata": {
    "collapsed": true
   },
   "outputs": [],
   "source": [
    "def matrix_factorization_SGD(train, test, gamma, num_features, lambda_user, lambda_item, num_epochs,\n",
    "                             user_features, item_features, include_test = True):\n",
    "    \"\"\"matrix factorization by SGD. None for user_feats and item_feats only if warm_start is False\"\"\"\n",
    "    # set seed\n",
    "    np.random.seed(988)\n",
    "    \n",
    "    # find the non-zero ratings indices \n",
    "    nz_row, nz_col = train.nonzero()\n",
    "    nz_train = list(zip(nz_row, nz_col))\n",
    "    nz_test = []\n",
    "    if(include_test):\n",
    "        nz_row, nz_col = test.nonzero()\n",
    "        nz_test = list(zip(nz_row, nz_col))\n",
    "\n",
    "    print(\"Learn the matrix factorization using SGD with K = {}, lambda_i = {}, lambda_u = {}\".format(num_features, lambda_item, lambda_user))\n",
    "    for it in range(num_epochs):        \n",
    "        # shuffle the training rating indices\n",
    "        np.random.shuffle(nz_train)\n",
    "        \n",
    "        # decrease step size\n",
    "        gamma /= 1.2\n",
    "        \n",
    "        for d, n in nz_train:\n",
    "            # update W_d (item_features[:, d]) and Z_n (user_features[:, n])\n",
    "            item_info = item_features[:, d]\n",
    "            user_info = user_features[:, n]\n",
    "            err = train[d, n] - user_info.T.dot(item_info)\n",
    "            # calculate the gradient and update\n",
    "            item_features[:, d] += gamma * (err * user_info - lambda_item * item_info)\n",
    "            user_features[:, n] += gamma * (err * item_info - lambda_user * user_info)\n",
    "            \n",
    "        rmse = compute_error(train, user_features, item_features, nz_train)\n",
    "        if(it % 5 == 0):\n",
    "            print(\"iter: {}, RMSE on training set: {}.\".format(it, rmse))\n",
    "\n",
    "    # evaluate the test error\n",
    "    if include_test:\n",
    "        rmse = compute_error(test, user_features, item_features, nz_test)\n",
    "        print(\"RMSE on test data: {}.\".format(rmse))\n",
    "    return item_features, user_features, rmse   "
   ]
  },
  {
   "cell_type": "markdown",
   "metadata": {},
   "source": [
    "### Finding parameters for SGD"
   ]
  },
  {
   "cell_type": "code",
   "execution_count": null,
   "metadata": {
    "collapsed": true
   },
   "outputs": [],
   "source": [
    "from SGD_helpers import *"
   ]
  },
  {
   "cell_type": "markdown",
   "metadata": {},
   "source": [
    "We need to find the values of the step size $\\gamma$ first for a fixed value of the 3 other parameters and then compute a grid search to find the best parameters for the regularizers $\\lambda_{user}$, $\\lambda_{item}$ (both between 0 and 1) and the number of features $K$"
   ]
  },
  {
   "cell_type": "code",
   "execution_count": 159,
   "metadata": {},
   "outputs": [
    {
     "name": "stdout",
     "output_type": "stream",
     "text": [
      "Learn the matrix factorization using SGD with K = 50, lambda_i = 0.01, lambda_u = 0.01\n",
      "iter: 0, RMSE on training set: 1.0254163402880199.\n",
      "iter: 5, RMSE on training set: 0.9970562707025038.\n",
      "iter: 10, RMSE on training set: 0.9878420873516897.\n",
      "iter: 15, RMSE on training set: 0.9827800385900544.\n",
      "RMSE on test data: 0.9956946199719938.\n",
      "Learn the matrix factorization using SGD with K = 50, lambda_i = 0.01, lambda_u = 0.01\n",
      "iter: 0, RMSE on training set: 1.0476258793239321.\n",
      "iter: 5, RMSE on training set: 0.9589571948307791.\n",
      "iter: 10, RMSE on training set: 0.8527435785856862.\n",
      "iter: 15, RMSE on training set: 0.8095947135380929.\n",
      "RMSE on test data: 1.0043973015749026.\n",
      "Learn the matrix factorization using SGD with K = 50, lambda_i = 0.01, lambda_u = 0.01\n",
      "iter: 0, RMSE on training set: 1.0919266199950395.\n",
      "iter: 5, RMSE on training set: 0.7711472883038539.\n",
      "iter: 10, RMSE on training set: 0.6921353233596186.\n",
      "iter: 15, RMSE on training set: 0.6730727947086461.\n",
      "RMSE on test data: 1.1173694899753186.\n"
     ]
    }
   ],
   "source": [
    "# Finding gamma:\n",
    "\n",
    "gammas = np.logspace(-5,0,6) # errors on tests are [4.58, 1.43, 1.05, 1.02, nan, nan] Above 0.05 -> nan\n",
    "K = 50\n",
    "lambda_user = 0.01\n",
    "lambda_item = 0.01\n",
    "num_epochs = 20\n",
    "errors = []\n",
    "\n",
    "for gamma in gammas:\n",
    "    user_init, item_init = init_MF(train, K)\n",
    "    _, _, rmse = matrix_factorization_SGD(train, test, gamma, K, lambda_user, lambda_item, num_epochs, user_init, item_init)\n",
    "    errors.append(rmse)"
   ]
  },
  {
   "cell_type": "markdown",
   "metadata": {},
   "source": [
    "After many computations (not only on logspace) for same parameters for K and the 2 lambdas, we found that $\\gamma = 0.025$ is the best"
   ]
  },
  {
   "cell_type": "code",
   "execution_count": null,
   "metadata": {},
   "outputs": [
    {
     "name": "stdout",
     "output_type": "stream",
     "text": [
      "K = 20, lambda_u = 0.005, lambda_i = 0.05\n",
      "Learn the matrix factorization using SGD with K = 20, lambda_i = 0.05, lambda_u = 0.005\n",
      "iter: 0, RMSE on training set: 1.0319645103983506.\n",
      "iter: 5, RMSE on training set: 1.00386363668872.\n",
      "iter: 10, RMSE on training set: 0.9852919940605751.\n",
      "iter: 15, RMSE on training set: 0.9756309207073471.\n",
      "RMSE on test data: 0.9919069009109023.\n",
      "K = 20, lambda_u = 0.005, lambda_i = 0.1\n",
      "Learn the matrix factorization using SGD with K = 20, lambda_i = 0.1, lambda_u = 0.005\n",
      "iter: 0, RMSE on training set: 1.0155132474468431.\n",
      "iter: 5, RMSE on training set: 0.9580145579687189.\n",
      "iter: 10, RMSE on training set: 0.9282677738283455.\n",
      "iter: 15, RMSE on training set: 0.9178277238362167.\n",
      "RMSE on test data: 0.9855366773648361.\n",
      "K = 20, lambda_u = 0.005, lambda_i = 0.5\n",
      "Learn the matrix factorization using SGD with K = 20, lambda_i = 0.5, lambda_u = 0.005\n",
      "iter: 0, RMSE on training set: 1.0411236927654304.\n",
      "iter: 5, RMSE on training set: 0.9932798549544953.\n",
      "iter: 10, RMSE on training set: 0.9559289502257527.\n",
      "iter: 15, RMSE on training set: 0.943369742156618.\n",
      "RMSE on test data: 0.9902358717422781.\n",
      "K = 20, lambda_u = 0.01, lambda_i = 0.05\n",
      "Learn the matrix factorization using SGD with K = 20, lambda_i = 0.05, lambda_u = 0.01\n",
      "iter: 0, RMSE on training set: 1.0347572130248075.\n",
      "iter: 5, RMSE on training set: 0.9185363170899346.\n",
      "iter: 10, RMSE on training set: 0.8764839868882884.\n",
      "iter: 15, RMSE on training set: 0.8639836103991108.\n",
      "RMSE on test data: 1.0161567685436224.\n",
      "K = 20, lambda_u = 0.01, lambda_i = 0.1\n",
      "Learn the matrix factorization using SGD with K = 20, lambda_i = 0.1, lambda_u = 0.01\n",
      "iter: 0, RMSE on training set: 1.002164446269932.\n",
      "iter: 5, RMSE on training set: 0.9106104521342812.\n",
      "iter: 10, RMSE on training set: 0.8725916152355692.\n"
     ]
    }
   ],
   "source": [
    "# Grid Search:\n",
    "grid = np.zeros((4, 4, 4)) ### np.zeros((4, 4, 4))\n",
    "gamma = 0.025 # best gamma we found above\n",
    "num_epochs = 20\n",
    "lambdas_user = [0.005, 0.01, 0.05]#np.logspace(-3,0,4)[::-1] #From max to min\n",
    "lambdas_item = [0.05, 0.1, 0.5]\n",
    "num_features = np.linspace(20,100,4)\n",
    "min_loss = 100000\n",
    "\n",
    "for x,K in enumerate(num_features):\n",
    "    ### Warm start: directly start computation from previously computed item_features and user_features and not random initialization \n",
    "    user_init, item_init = init_MF(train, int(K))\n",
    "    for y,lambda_u in enumerate(lambdas_user):\n",
    "        for z,lambda_i in enumerate(lambdas_item):\n",
    "            print(\"K = {}, lambda_u = {}, lambda_i = {}\".format(int(K), lambda_u, lambda_i))\n",
    "            item_feats, user_feats, rmse = matrix_factorization_SGD(train, test, gamma, int(K), lambda_u, lambda_i, num_epochs,\n",
    "                                                                    user_init, item_init)\n",
    "            ### For warm start, we keep the user_features and item_features that gave us the minimal rmse previously computed\n",
    "            if rmse < min_loss:\n",
    "                min_loss = rmse\n",
    "                user_init = user_feats\n",
    "                item_init = item_feats\n",
    "            grid[x, y, z] = rmse"
   ]
  },
  {
   "cell_type": "code",
   "execution_count": 140,
   "metadata": {},
   "outputs": [
    {
     "data": {
      "text/plain": [
       "<matplotlib.text.Text at 0xc368f19828>"
      ]
     },
     "execution_count": 140,
     "metadata": {},
     "output_type": "execute_result"
    },
    {
     "data": {
      "image/png": "[encoded data removed]",
      "text/plain": [
       "<matplotlib.figure.Figure at 0xc368e2d3c8>"
      ]
     },
     "metadata": {},
     "output_type": "display_data"
    }
   ],
   "source": [
    "'''TEST'''\n",
    "t = np.matrix([[1, 2, 3, 4],[1, 4, 9, 16],[1, 8, 27, 64],[1, 16, 81, 100]])\n",
    "ax = plt.axes()\n",
    "cmap = sns.color_palette(\"Blues\")\n",
    "sns.heatmap(t, ax = ax, cmap = cmap, square = True)\n",
    "lambdas_test1 = [0.0001, 0.001, 0.01, 0.1]\n",
    "lambdas_test2 = [0.0001, 0.001, 0.01, 0.1]\n",
    "ax.set_xticklabels(lambdas_test1)\n",
    "ax.set_yticklabels(lambdas_test2)\n",
    "ax.set_xlabel(\"Lambda user\")\n",
    "ax.set_ylabel(\"Lambda item\")\n",
    "plt.title(\"Grid Search for minimal RMSE depending on regularizers lambda user and lambda item\")"
   ]
  },
  {
   "cell_type": "markdown",
   "metadata": {},
   "source": [
    "Run the SGD with the best parameters we found:"
   ]
  },
  {
   "cell_type": "code",
   "execution_count": null,
   "metadata": {
    "collapsed": true
   },
   "outputs": [],
   "source": [
    "best_gamma = 0.025\n",
    "best_lambda_u = 0.1\n",
    "best_lambda_i = 0.01\n",
    "K = 20\n",
    "num_epochs = 20\n",
    "\n",
    "user_init, item_init = init_MF(train, K)\n",
    "\n",
    "item_feats_SGD, user_feats_SGD, rmse = matrix_factorization_SGD(ratings, test, best_gamma, K, best_lambda_u, best_lambda_i, num_epochs,\n",
    "                                                                    user_init, item_init, include_test = False)"
   ]
  },
  {
   "cell_type": "markdown",
   "metadata": {},
   "source": [
    "### Adding biases"
   ]
  },
  {
   "cell_type": "code",
   "execution_count": null,
   "metadata": {
    "collapsed": true
   },
   "outputs": [],
   "source": [
    "from bias_helpers import *"
   ]
  },
  {
   "cell_type": "markdown",
   "metadata": {},
   "source": [
    "Instead of having $p_{u, i} = \\mathbf{w}_i\\mathbf{z^{T}}_u$ we would add bias on the user and item by having the following:\n",
    "$$p_{u, i} = \\mu + b_{u} + b_{i} + \\mathbf{w}_i\\mathbf{z^{T}}_u$$\n",
    "\n",
    "where $\\mu$ is the average of all ratings, $b_{u}$ and $b_{i}$ are the observed deviations of user u and item i respectively from the average (the biases).\n",
    "\n",
    "Thus we now want to find the best $\\mathbf{W}$ and $\\mathbf{U}$ that minimizes the loss:\n",
    "\n",
    "$$min_{W,Z}\\ \\frac{1}{2} \\sum_{(u, i) \\in \\omega} (r_{u,i} - \\mu - b_{u} - b_{i} - \\mathbf{W_{u}} \\mathbf{Z^{T}_{i}}) + \\lambda_{item} (||W||_{F}^{2} + b_{i}^{2}) + \\lambda_{user} (||Z||_{F}^{2} + b_{u}^{2}) $$\n",
    "\n",
    "And we need to compute the gradient of this loss. It is the same as before except we can convert our rating matrix to a biased rating matrix with ratings $r'_{u, i} = r_{u, i} - \\mu - b_{u} - b_{i}$ and compute our SGD on this biased matrix"
   ]
  },
  {
   "cell_type": "code",
   "execution_count": 11,
   "metadata": {
    "collapsed": true
   },
   "outputs": [],
   "source": [
    "# ratings is matrix of dimension: items x users\n",
    "def computeBiasMatrix(ratings):\n",
    "    \"\"\"Compute the bias matrix of same dimension as the ratings matrix\n",
    "    where each element is equal to r_ui - mu - bias_u - bias_i\"\"\"\n",
    "    num_items, num_users = ratings.shape\n",
    "    # find the non-zero ratings indices \n",
    "    nz_row, nz_col = ratings.nonzero()\n",
    "    nz_ratings = list(zip(nz_row, nz_col))\n",
    "    \n",
    "    # mu is overall mean (of non zeros)\n",
    "    mu = np.sum(ratings)/len(nz_ratings)\n",
    "\n",
    "    nz_users = np.zeros((num_users,), dtype=int)\n",
    "    nz_items = np.zeros((num_items,), dtype=int)\n",
    "    # Compute number of non zero ratings for each user and item\n",
    "    for item, user in nz_ratings:\n",
    "        nz_users[user] += 1\n",
    "        nz_items[item] += 1\n",
    "    \n",
    "    mean_users = np.sum(ratings, axis = 0)\n",
    "    mean_users = [mean_users[0, i] for i in range(num_users)]/nz_users\n",
    "    mean_items = np.sum(ratings, axis = 1)\n",
    "    mean_items = [mean_items[i, 0] for i in range(num_items)]/nz_items\n",
    "    \n",
    "    bias_users = mean_users - np.ones(num_users) * mu\n",
    "    bias_items = mean_items - np.ones(num_items) * mu\n",
    "    new_ratings = sp.lil_matrix((num_items, num_users))\n",
    "    for item, user in nz_ratings:\n",
    "        new_ratings[item, user] = ratings[item, user] - (mu + bias_users[user] + bias_items[item])\n",
    "    return new_ratings, mu, bias_users, bias_items"
   ]
  },
  {
   "cell_type": "code",
   "execution_count": 25,
   "metadata": {},
   "outputs": [
    {
     "name": "stderr",
     "output_type": "stream",
     "text": [
      "C:\\Users\\olivi\\Anaconda3\\lib\\site-packages\\ipykernel\\__main__.py:21: RuntimeWarning: invalid value encountered in true_divide\n",
      "C:\\Users\\olivi\\Anaconda3\\lib\\site-packages\\ipykernel\\__main__.py:23: RuntimeWarning: invalid value encountered in true_divide\n"
     ]
    }
   ],
   "source": [
    "bias_train, mean, bias_u_train, bias_i_train = computeBiasMatrix(train) #ratings\n",
    "bias_test, _, _, _ = computeBiasMatrix(test)"
   ]
  },
  {
   "cell_type": "code",
   "execution_count": 14,
   "metadata": {},
   "outputs": [
    {
     "name": "stdout",
     "output_type": "stream",
     "text": [
      "K = 20, lambda_u = 1.0, lambda_i = 1.0\n",
      "Learn the matrix factorization using SGD with K = 20, lambda_i = 1.0, lambda_u = 1.0\n",
      "iter: 0, RMSE on training set: 0.9950116720477675.\n",
      "iter: 5, RMSE on training set: 0.9950141369933406.\n",
      "iter: 10, RMSE on training set: 0.9950141496906598.\n",
      "iter: 15, RMSE on training set: 0.9950141514729475.\n",
      "RMSE on test data: 0.9584170939579535.\n",
      "K = 20, lambda_u = 1.0, lambda_i = 0.1\n",
      "Learn the matrix factorization using SGD with K = 20, lambda_i = 0.1, lambda_u = 1.0\n",
      "iter: 0, RMSE on training set: 0.9950141420859426.\n",
      "iter: 5, RMSE on training set: 0.9950141520257917.\n",
      "iter: 10, RMSE on training set: 0.9950141530127758.\n",
      "iter: 15, RMSE on training set: 0.9950141532576683.\n",
      "RMSE on test data: 0.9584170952633824.\n",
      "K = 20, lambda_u = 1.0, lambda_i = 0.01\n",
      "Learn the matrix factorization using SGD with K = 20, lambda_i = 0.01, lambda_u = 1.0\n",
      "iter: 0, RMSE on training set: 0.9950141511814983.\n",
      "iter: 5, RMSE on training set: 0.9950141262925755.\n",
      "iter: 10, RMSE on training set: 0.9950140676593487.\n",
      "iter: 15, RMSE on training set: 0.9950140099869278.\n",
      "RMSE on test data: 0.958416979291496.\n",
      "K = 20, lambda_u = 1.0, lambda_i = 0.001\n",
      "Learn the matrix factorization using SGD with K = 20, lambda_i = 0.001, lambda_u = 1.0\n",
      "iter: 0, RMSE on training set: 0.9950133522072887.\n",
      "iter: 5, RMSE on training set: 0.9949032287442016.\n",
      "iter: 10, RMSE on training set: 0.9941313706738808.\n",
      "iter: 15, RMSE on training set: 0.9930687415120875.\n",
      "RMSE on test data: 0.9566685868455376.\n",
      "K = 20, lambda_u = 0.1, lambda_i = 1.0\n",
      "Learn the matrix factorization using SGD with K = 20, lambda_i = 1.0, lambda_u = 0.1\n",
      "iter: 0, RMSE on training set: 0.9949699666394071.\n",
      "iter: 5, RMSE on training set: 0.9949944740484968.\n",
      "iter: 10, RMSE on training set: 0.995000141072254.\n",
      "iter: 15, RMSE on training set: 0.9950020276974609.\n",
      "RMSE on test data: 0.9584095284615755.\n",
      "K = 20, lambda_u = 0.1, lambda_i = 0.1\n",
      "Learn the matrix factorization using SGD with K = 20, lambda_i = 0.1, lambda_u = 0.1\n",
      "iter: 0, RMSE on training set: 0.9948328726003601.\n",
      "iter: 5, RMSE on training set: 0.9927857638304549.\n",
      "iter: 10, RMSE on training set: 0.9904955884695801.\n",
      "iter: 15, RMSE on training set: 0.9894846787276742.\n",
      "RMSE on test data: 0.9543411204962421.\n",
      "K = 20, lambda_u = 0.1, lambda_i = 0.01\n",
      "Learn the matrix factorization using SGD with K = 20, lambda_i = 0.01, lambda_u = 0.1\n",
      "iter: 0, RMSE on training set: 0.9813451402409408.\n",
      "iter: 5, RMSE on training set: 0.9717386288208021.\n",
      "iter: 10, RMSE on training set: 0.9665359860459964.\n",
      "iter: 15, RMSE on training set: 0.964823078786013.\n",
      "RMSE on test data: 0.9453717929758166.\n",
      "K = 20, lambda_u = 0.1, lambda_i = 0.001\n",
      "Learn the matrix factorization using SGD with K = 20, lambda_i = 0.001, lambda_u = 0.1\n",
      "iter: 0, RMSE on training set: 0.9567278750817676.\n",
      "iter: 5, RMSE on training set: 0.9102203673992817.\n",
      "iter: 10, RMSE on training set: 0.8838284303162773.\n",
      "iter: 15, RMSE on training set: 0.8729639918665925.\n",
      "RMSE on test data: 0.9680425862442609.\n",
      "K = 20, lambda_u = 0.01, lambda_i = 1.0\n",
      "Learn the matrix factorization using SGD with K = 20, lambda_i = 1.0, lambda_u = 0.01\n",
      "iter: 0, RMSE on training set: 0.9883004852445127.\n",
      "iter: 5, RMSE on training set: 0.9847936770808869.\n",
      "iter: 10, RMSE on training set: 0.9836791764338765.\n",
      "iter: 15, RMSE on training set: 0.9833119354268203.\n",
      "RMSE on test data: 0.9533250250281449.\n",
      "K = 20, lambda_u = 0.01, lambda_i = 0.1\n",
      "Learn the matrix factorization using SGD with K = 20, lambda_i = 0.1, lambda_u = 0.01\n",
      "iter: 0, RMSE on training set: 0.924115923823296.\n",
      "iter: 5, RMSE on training set: 0.8893150526036965.\n",
      "iter: 10, RMSE on training set: 0.8801413249982132.\n",
      "iter: 15, RMSE on training set: 0.8773049341260845.\n",
      "RMSE on test data: 0.9486327173950324.\n",
      "K = 20, lambda_u = 0.01, lambda_i = 0.01\n",
      "Learn the matrix factorization using SGD with K = 20, lambda_i = 0.01, lambda_u = 0.01\n",
      "iter: 0, RMSE on training set: 0.8517614663344333.\n",
      "iter: 5, RMSE on training set: 0.8322137682097144.\n",
      "iter: 10, RMSE on training set: 0.8274164068930059.\n",
      "iter: 15, RMSE on training set: 0.8260340337993763.\n",
      "RMSE on test data: 1.0122680303562075.\n",
      "K = 20, lambda_u = 0.01, lambda_i = 0.001\n",
      "Learn the matrix factorization using SGD with K = 20, lambda_i = 0.001, lambda_u = 0.01\n",
      "iter: 0, RMSE on training set: 0.831528135910676.\n",
      "iter: 5, RMSE on training set: 0.8195025738910826.\n",
      "iter: 10, RMSE on training set: 0.8165281577682876.\n",
      "iter: 15, RMSE on training set: 0.8157399614796698.\n",
      "RMSE on test data: 1.0446486316257588.\n",
      "K = 20, lambda_u = 0.001, lambda_i = 1.0\n",
      "Learn the matrix factorization using SGD with K = 20, lambda_i = 1.0, lambda_u = 0.001\n",
      "iter: 0, RMSE on training set: 0.9589590798340594.\n",
      "iter: 5, RMSE on training set: 0.9436065043713214.\n",
      "iter: 10, RMSE on training set: 0.9385108549558221.\n",
      "iter: 15, RMSE on training set: 0.9367661329583973.\n",
      "RMSE on test data: 0.9435385161638142.\n",
      "K = 20, lambda_u = 0.001, lambda_i = 0.1\n",
      "Learn the matrix factorization using SGD with K = 20, lambda_i = 0.1, lambda_u = 0.001\n",
      "iter: 0, RMSE on training set: 0.8626828534570321.\n",
      "iter: 5, RMSE on training set: 0.8443523470597768.\n",
      "iter: 10, RMSE on training set: 0.8365169006712216.\n",
      "iter: 15, RMSE on training set: 0.8344543919598093.\n",
      "RMSE on test data: 0.9914478431273162.\n",
      "K = 20, lambda_u = 0.001, lambda_i = 0.01\n",
      "Learn the matrix factorization using SGD with K = 20, lambda_i = 0.01, lambda_u = 0.001\n",
      "iter: 0, RMSE on training set: 0.8710201518083586.\n"
     ]
    },
    {
     "name": "stderr",
     "output_type": "stream",
     "text": [
      "C:\\Users\\olivi\\Anaconda3\\lib\\site-packages\\ipykernel\\__main__.py:30: RuntimeWarning: overflow encountered in multiply\n",
      "C:\\Users\\olivi\\Anaconda3\\lib\\site-packages\\ipykernel\\__main__.py:29: RuntimeWarning: overflow encountered in multiply\n",
      "C:\\Users\\olivi\\Anaconda3\\lib\\site-packages\\ipykernel\\__main__.py:29: RuntimeWarning: invalid value encountered in add\n",
      "C:\\Users\\olivi\\Anaconda3\\lib\\site-packages\\ipykernel\\__main__.py:30: RuntimeWarning: invalid value encountered in subtract\n"
     ]
    },
    {
     "name": "stdout",
     "output_type": "stream",
     "text": [
      "iter: 5, RMSE on training set: nan.\n",
      "iter: 10, RMSE on training set: nan.\n",
      "iter: 15, RMSE on training set: nan.\n",
      "RMSE on test data: nan.\n",
      "K = 20, lambda_u = 0.001, lambda_i = 0.001\n",
      "Learn the matrix factorization using SGD with K = 20, lambda_i = 0.001, lambda_u = 0.001\n",
      "iter: 0, RMSE on training set: nan.\n",
      "iter: 5, RMSE on training set: nan.\n",
      "iter: 10, RMSE on training set: nan.\n",
      "iter: 15, RMSE on training set: nan.\n",
      "RMSE on test data: nan.\n"
     ]
    }
   ],
   "source": [
    "# Grid Search:\n",
    "grid = np.zeros((4, 4)) ### np.zeros((4, 4, 4))\n",
    "gamma = 0.025 # best gamma we found above\n",
    "num_epochs = 20\n",
    "lambdas_user = np.logspace(-3,0,4)[::-1] #From max to min\n",
    "lambdas_item = np.logspace(-3,0,4)[::-1]\n",
    "#num_features = np.linspace(20,100,4)\n",
    "K = 20\n",
    "min_loss = 100000\n",
    "\n",
    "### Warm start: directly start computation from previously computed item_features and user_features and not random initialization \n",
    "user_init, item_init = init_MF(train, K)\n",
    "for x,lambda_u in enumerate(lambdas_user):\n",
    "    for y,lambda_i in enumerate(lambdas_item):\n",
    "        print(\"K = {}, lambda_u = {}, lambda_i = {}\".format(int(K), lambda_u, lambda_i))\n",
    "        item_feats, user_feats, rmse = matrix_factorization_SGD(bias_train, bias_test, gamma, K, lambda_u,\n",
    "                                                                lambda_i, num_epochs, user_init, item_init)\n",
    "        ### For warm start, we keep the user_features and item_features that gave us the minimal rmse previously computed\n",
    "        if rmse < min_loss:\n",
    "            min_loss = rmse\n",
    "            user_init = user_feats\n",
    "            item_init = item_feats\n",
    "        grid[x, y] = rmse"
   ]
  },
  {
   "cell_type": "code",
   "execution_count": 16,
   "metadata": {},
   "outputs": [
    {
     "name": "stdout",
     "output_type": "stream",
     "text": [
      "Learn the matrix factorization using SGD with K = 20, lambda_i = 1.0, lambda_u = 0.001\n",
      "iter: 0, RMSE on training set: 0.9953119278759404.\n",
      "iter: 5, RMSE on training set: 0.9952922850679001.\n",
      "iter: 10, RMSE on training set: 0.9952833079852658.\n",
      "iter: 15, RMSE on training set: 0.9952781573967916.\n"
     ]
    }
   ],
   "source": [
    "# define parameters\n",
    "gamma = 0.025\n",
    "K = 20\n",
    "lambda_user = 0.001\n",
    "lambda_item = 1.0\n",
    "num_epochs = 20\n",
    "user_init, item_init = init_MF(bias_train, K)\n",
    "\n",
    "item_featuresSGD, user_featuresSGD, rmse = matrix_factorization_SGD(bias_train, bias_test, gamma, K, lambda_user,\n",
    "                                                              lambda_item, num_epochs, user_init, item_init, include_test = False)\n"
   ]
  },
  {
   "cell_type": "code",
   "execution_count": 17,
   "metadata": {
    "collapsed": true
   },
   "outputs": [],
   "source": [
    "### 0.8 secs to compute\n",
    "def predictionsWithBias(item_features, user_features, bias_u, bias_i, mean_rating):\n",
    "    '''Computes the final predictions matrix using the formula: pred_u_i = mean + bias_u + bias_i + item_features.T @ user_features'''\n",
    "    # item_features and user_features of shape: K x num_items/users\n",
    "    preds_matrix = np.dot(item_features.T, user_features)\n",
    "    num_items, num_users = preds_matrix.shape\n",
    "    ### biasU: each elements of a column has same value (corresponding to the user bias)\n",
    "    biasU = np.tile(bias_u, (num_items,1))\n",
    "    ### biasI: each elements of a row has same value (corresponding to the movie bias)\n",
    "    biasI = np.tile(bias_i, (num_users,1)).T\n",
    "    mean_matrix = np.ones((num_items, num_users)) * mean_rating\n",
    "    \n",
    "    predictionsBiased = mean_matrix + biasU + biasI + preds_matrix\n",
    "    print(np.shape(predictionsBiased))\n",
    "    return predictionsBiased"
   ]
  },
  {
   "cell_type": "code",
   "execution_count": 18,
   "metadata": {},
   "outputs": [
    {
     "name": "stdout",
     "output_type": "stream",
     "text": [
      "(1000, 10000)\n",
      "2.685866355895996\n"
     ]
    }
   ],
   "source": [
    "import time\n",
    "start_time = time.time()\n",
    "predictions = predictionsWithBias(item_featuresSGD, user_featuresSGD, bias_u_train, bias_i_train, mean)\n",
    "end_time = time.time() - start_time\n",
    "print(end_time)"
   ]
  },
  {
   "cell_type": "code",
   "execution_count": 19,
   "metadata": {},
   "outputs": [
    {
     "name": "stdout",
     "output_type": "stream",
     "text": [
      "1 37\n",
      "3.27873618137\n"
     ]
    }
   ],
   "source": [
    "### Checking if results appear the same in the final excel file\n",
    "first_user, first_item = sample_ids[0][0],sample_ids[0][1]\n",
    "print(first_item, first_user)\n",
    "print(predictions[0, 36])"
   ]
  },
  {
   "cell_type": "markdown",
   "metadata": {
    "collapsed": true
   },
   "source": [
    "### Submission"
   ]
  },
  {
   "cell_type": "code",
   "execution_count": 21,
   "metadata": {
    "collapsed": true
   },
   "outputs": [],
   "source": [
    "def getWantedPredictions(predictions_matrix, ids):\n",
    "    \"\"\"Computes array of the wanted predictions given the list of ids of the form [user_id, movie_id]\"\"\"\n",
    "    wanted_predictions = []\n",
    "    for user, movie in ids:\n",
    "        wanted_predictions.append(predictions_matrix[user - 1, movie - 1])\n",
    "    return wanted_predictions"
   ]
  },
  {
   "cell_type": "code",
   "execution_count": 46,
   "metadata": {},
   "outputs": [
    {
     "name": "stdout",
     "output_type": "stream",
     "text": [
      "(20, 10000) (1000, 20)\n",
      "Shape of predictions (user x items): (10000, 1000)\n"
     ]
    }
   ],
   "source": [
    "### We want our matrix of the form user x movies: user_features (shape users x k) @ item_features.T (shape k x items)\n",
    "print(np.shape(user_feats_SGD), np.shape(item_feats_SGD.T))\n",
    "predictions = np.dot(item_feats_SGD.T, user_feats_SGD).T\n",
    "print(\"Shape of predictions (user x items): {}\".format(np.shape(predictions)))\n",
    "#predictions = predictionsWithBias(predictions, bias_users, bias_items).T\n",
    "wanted_preds = getWantedPredictions(predictions, sample_ids)"
   ]
  },
  {
   "cell_type": "code",
   "execution_count": 22,
   "metadata": {
    "scrolled": true
   },
   "outputs": [
    {
     "name": "stdout",
     "output_type": "stream",
     "text": [
      "(1000, 10000)\n"
     ]
    }
   ],
   "source": [
    "print(np.shape(predictions))\n",
    "wanted_preds = getWantedPredictions(predictions.T, sample_ids)"
   ]
  },
  {
   "cell_type": "code",
   "execution_count": 23,
   "metadata": {
    "collapsed": true
   },
   "outputs": [],
   "source": [
    "from helpers import create_csv_submission\n",
    "\n",
    "create_csv_submission(sample_ids, wanted_preds, \"submissions/SGD_bias_best_param2_all.csv\")"
   ]
  },
  {
   "cell_type": "code",
   "execution_count": null,
   "metadata": {
    "collapsed": true
   },
   "outputs": [],
   "source": []
  }
 ],
 "metadata": {
  "anaconda-cloud": {},
  "kernelspec": {
   "display_name": "Python [conda root]",
   "language": "python",
   "name": "conda-root-py"
  },
  "language_info": {
   "codemirror_mode": {
    "name": "ipython",
    "version": 3
   },
   "file_extension": ".py",
   "mimetype": "text/x-python",
   "name": "python",
   "nbconvert_exporter": "python",
   "pygments_lexer": "ipython3",
   "version": "3.6.1"
  }
 },
 "nbformat": 4,
 "nbformat_minor": 1
}
